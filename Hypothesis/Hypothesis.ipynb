{
 "cells": [
  {
   "cell_type": "markdown",
   "metadata": {},
   "source": [
    "<a id='table_of_contents'><h1>Содержание проекта:</h1></a>\n",
    "1. <a href='#project_description'>Описание проекта</a>\n",
    "1. <a href='#data_description'>Описание данных</a>\n",
    "1. <a href='#data_loading'>Загрузка и подготовка данных к анализу</a>\n",
    "    - <a href='#hypothesis'>Гипотезы и их параметры `hypothesis`</a>\n",
    "    - <a href='#orders'>Информация о заказах `orders`</a>\n",
    "    - <a href='#visitors'>Информация о визитах `visitors`</a>\n",
    "1. <a href='#prioritizing'>Приоретизация гипотез</a> \n",
    "1. <a href='#ab_test_analyzing'>Анализ A/B-теста</a>"
   ]
  },
  {
   "cell_type": "markdown",
   "metadata": {},
   "source": [
    "<a id='project_description'><h1>Описание проекта</h1></a>\n",
    "<br>Проект состоит из 2 частей.\n",
    "<br>1 часть: Приоритезация гипотез.\n",
    "<br>Необходимо приоритезировать гипотезы с использованием фреймворков ICE и RICE и сделать выводы.\n",
    "<br>\n",
    "<br>2 часть: Анализ A/B теста.\n",
    "<br>Необходимо проанализировать результаты A/B теста, принять решение о продолжении или остановке теста и сделать выводы."
   ]
  },
  {
   "cell_type": "markdown",
   "metadata": {},
   "source": [
    "<a id='data_description'><h1>Описание данных</h1></a>\n",
    "<a href='#table_of_contents'>В начало</a>\n",
    "\n",
    "1 часть:\n",
    "\n",
    "Файл `/datasets/hypothesis.csv`\n",
    "- `Hypothesis` — краткое описание гипотезы;\n",
    "- `Reach` — охват пользователей по 10-балльной шкале;\n",
    "- `Impact` — влияние на пользователей по 10-балльной шкале;\n",
    "- `Confidence` — уверенность в гипотезе по 10-балльной шкале;\n",
    "- `Efforts` — затраты ресурсов на проверку гипотезы по 10-балльной шкале. Чем больше значение Efforts, тем дороже проверка гипотезы.\n",
    "\n",
    "2 часть:\n",
    "\n",
    "Файл `/datasets/orders.csv`\n",
    "- `transactionId` — идентификатор заказа;\n",
    "- `visitorId` — идентификатор пользователя, совершившего заказ;\n",
    "- `date` — дата, когда был совершён заказ;\n",
    "- `revenue` — выручка заказа;\n",
    "- `group` — группа A/B-теста, в которую попал заказ.\n",
    "\n",
    "Файл `/datasets/visitors.csv`\n",
    "- `date` — дата;\n",
    "- `group` — группа A/B-теста;\n",
    "- `visitors` — количество пользователей в указанную дату в указанной группе A/B-теста"
   ]
  },
  {
   "cell_type": "markdown",
   "metadata": {},
   "source": [
    "<a id='data_loading'><h1>Загрузка и подготовка данных к анализу</h1></a>\n",
    "<a href='#table_of_contents'>В начало</a>"
   ]
  },
  {
   "cell_type": "code",
   "execution_count": 1,
   "metadata": {},
   "outputs": [],
   "source": [
    "import pandas as pd\n",
    "import numpy as np\n",
    "import matplotlib.pyplot as plt\n",
    "import scipy.stats as stats"
   ]
  },
  {
   "cell_type": "markdown",
   "metadata": {},
   "source": [
    "<a id='hypothesis'><h2>Гипотезы и их параметры `hypothesis`</h2></a>\n",
    "<a href='#table_of_contents'>В начало</a>"
   ]
  },
  {
   "cell_type": "markdown",
   "metadata": {},
   "source": [
    "1. Прочитаем данные из файла.\n",
    "1. Приведем столбцы к нижнему регистру."
   ]
  },
  {
   "cell_type": "code",
   "execution_count": 2,
   "metadata": {},
   "outputs": [],
   "source": [
    "hypothesis = pd.read_csv('/datasets/hypothesis.csv')\n",
    "hypothesis.columns = map(str.lower, hypothesis.columns)"
   ]
  },
  {
   "cell_type": "code",
   "execution_count": 3,
   "metadata": {
    "scrolled": false
   },
   "outputs": [
    {
     "data": {
      "text/html": [
       "<style  type=\"text/css\" >\n",
       "</style><table id=\"T_076408ea_fb2d_11ea_8786_02420a390389\" ><thead>    <tr>        <th class=\"blank level0\" ></th>        <th class=\"col_heading level0 col0\" >hypothesis</th>        <th class=\"col_heading level0 col1\" >reach</th>        <th class=\"col_heading level0 col2\" >impact</th>        <th class=\"col_heading level0 col3\" >confidence</th>        <th class=\"col_heading level0 col4\" >efforts</th>    </tr></thead><tbody>\n",
       "                <tr>\n",
       "                        <th id=\"T_076408ea_fb2d_11ea_8786_02420a390389level0_row0\" class=\"row_heading level0 row0\" >0</th>\n",
       "                        <td id=\"T_076408ea_fb2d_11ea_8786_02420a390389row0_col0\" class=\"data row0 col0\" >Добавить два новых канала привлечения трафика, что позволит привлекать на 30% больше пользователей</td>\n",
       "                        <td id=\"T_076408ea_fb2d_11ea_8786_02420a390389row0_col1\" class=\"data row0 col1\" >3</td>\n",
       "                        <td id=\"T_076408ea_fb2d_11ea_8786_02420a390389row0_col2\" class=\"data row0 col2\" >10</td>\n",
       "                        <td id=\"T_076408ea_fb2d_11ea_8786_02420a390389row0_col3\" class=\"data row0 col3\" >8</td>\n",
       "                        <td id=\"T_076408ea_fb2d_11ea_8786_02420a390389row0_col4\" class=\"data row0 col4\" >6</td>\n",
       "            </tr>\n",
       "            <tr>\n",
       "                        <th id=\"T_076408ea_fb2d_11ea_8786_02420a390389level0_row1\" class=\"row_heading level0 row1\" >1</th>\n",
       "                        <td id=\"T_076408ea_fb2d_11ea_8786_02420a390389row1_col0\" class=\"data row1 col0\" >Запустить собственную службу доставки, что сократит срок доставки заказов</td>\n",
       "                        <td id=\"T_076408ea_fb2d_11ea_8786_02420a390389row1_col1\" class=\"data row1 col1\" >2</td>\n",
       "                        <td id=\"T_076408ea_fb2d_11ea_8786_02420a390389row1_col2\" class=\"data row1 col2\" >5</td>\n",
       "                        <td id=\"T_076408ea_fb2d_11ea_8786_02420a390389row1_col3\" class=\"data row1 col3\" >4</td>\n",
       "                        <td id=\"T_076408ea_fb2d_11ea_8786_02420a390389row1_col4\" class=\"data row1 col4\" >10</td>\n",
       "            </tr>\n",
       "            <tr>\n",
       "                        <th id=\"T_076408ea_fb2d_11ea_8786_02420a390389level0_row2\" class=\"row_heading level0 row2\" >2</th>\n",
       "                        <td id=\"T_076408ea_fb2d_11ea_8786_02420a390389row2_col0\" class=\"data row2 col0\" >Добавить блоки рекомендаций товаров на сайт интернет магазина, чтобы повысить конверсию и средний чек заказа</td>\n",
       "                        <td id=\"T_076408ea_fb2d_11ea_8786_02420a390389row2_col1\" class=\"data row2 col1\" >8</td>\n",
       "                        <td id=\"T_076408ea_fb2d_11ea_8786_02420a390389row2_col2\" class=\"data row2 col2\" >3</td>\n",
       "                        <td id=\"T_076408ea_fb2d_11ea_8786_02420a390389row2_col3\" class=\"data row2 col3\" >7</td>\n",
       "                        <td id=\"T_076408ea_fb2d_11ea_8786_02420a390389row2_col4\" class=\"data row2 col4\" >3</td>\n",
       "            </tr>\n",
       "            <tr>\n",
       "                        <th id=\"T_076408ea_fb2d_11ea_8786_02420a390389level0_row3\" class=\"row_heading level0 row3\" >3</th>\n",
       "                        <td id=\"T_076408ea_fb2d_11ea_8786_02420a390389row3_col0\" class=\"data row3 col0\" >Изменить структура категорий, что увеличит конверсию, т.к. пользователи быстрее найдут нужный товар</td>\n",
       "                        <td id=\"T_076408ea_fb2d_11ea_8786_02420a390389row3_col1\" class=\"data row3 col1\" >8</td>\n",
       "                        <td id=\"T_076408ea_fb2d_11ea_8786_02420a390389row3_col2\" class=\"data row3 col2\" >3</td>\n",
       "                        <td id=\"T_076408ea_fb2d_11ea_8786_02420a390389row3_col3\" class=\"data row3 col3\" >3</td>\n",
       "                        <td id=\"T_076408ea_fb2d_11ea_8786_02420a390389row3_col4\" class=\"data row3 col4\" >8</td>\n",
       "            </tr>\n",
       "            <tr>\n",
       "                        <th id=\"T_076408ea_fb2d_11ea_8786_02420a390389level0_row4\" class=\"row_heading level0 row4\" >4</th>\n",
       "                        <td id=\"T_076408ea_fb2d_11ea_8786_02420a390389row4_col0\" class=\"data row4 col0\" >Изменить цвет фона главной страницы, чтобы увеличить вовлеченность пользователей</td>\n",
       "                        <td id=\"T_076408ea_fb2d_11ea_8786_02420a390389row4_col1\" class=\"data row4 col1\" >3</td>\n",
       "                        <td id=\"T_076408ea_fb2d_11ea_8786_02420a390389row4_col2\" class=\"data row4 col2\" >1</td>\n",
       "                        <td id=\"T_076408ea_fb2d_11ea_8786_02420a390389row4_col3\" class=\"data row4 col3\" >1</td>\n",
       "                        <td id=\"T_076408ea_fb2d_11ea_8786_02420a390389row4_col4\" class=\"data row4 col4\" >1</td>\n",
       "            </tr>\n",
       "            <tr>\n",
       "                        <th id=\"T_076408ea_fb2d_11ea_8786_02420a390389level0_row5\" class=\"row_heading level0 row5\" >5</th>\n",
       "                        <td id=\"T_076408ea_fb2d_11ea_8786_02420a390389row5_col0\" class=\"data row5 col0\" >Добавить страницу отзывов клиентов о магазине, что позволит увеличить количество заказов</td>\n",
       "                        <td id=\"T_076408ea_fb2d_11ea_8786_02420a390389row5_col1\" class=\"data row5 col1\" >3</td>\n",
       "                        <td id=\"T_076408ea_fb2d_11ea_8786_02420a390389row5_col2\" class=\"data row5 col2\" >2</td>\n",
       "                        <td id=\"T_076408ea_fb2d_11ea_8786_02420a390389row5_col3\" class=\"data row5 col3\" >2</td>\n",
       "                        <td id=\"T_076408ea_fb2d_11ea_8786_02420a390389row5_col4\" class=\"data row5 col4\" >3</td>\n",
       "            </tr>\n",
       "            <tr>\n",
       "                        <th id=\"T_076408ea_fb2d_11ea_8786_02420a390389level0_row6\" class=\"row_heading level0 row6\" >6</th>\n",
       "                        <td id=\"T_076408ea_fb2d_11ea_8786_02420a390389row6_col0\" class=\"data row6 col0\" >Показать на главной странице баннеры с актуальными акциями и распродажами, чтобы увеличить конверсию</td>\n",
       "                        <td id=\"T_076408ea_fb2d_11ea_8786_02420a390389row6_col1\" class=\"data row6 col1\" >5</td>\n",
       "                        <td id=\"T_076408ea_fb2d_11ea_8786_02420a390389row6_col2\" class=\"data row6 col2\" >3</td>\n",
       "                        <td id=\"T_076408ea_fb2d_11ea_8786_02420a390389row6_col3\" class=\"data row6 col3\" >8</td>\n",
       "                        <td id=\"T_076408ea_fb2d_11ea_8786_02420a390389row6_col4\" class=\"data row6 col4\" >3</td>\n",
       "            </tr>\n",
       "            <tr>\n",
       "                        <th id=\"T_076408ea_fb2d_11ea_8786_02420a390389level0_row7\" class=\"row_heading level0 row7\" >7</th>\n",
       "                        <td id=\"T_076408ea_fb2d_11ea_8786_02420a390389row7_col0\" class=\"data row7 col0\" >Добавить форму подписки на все основные страницы, чтобы собрать базу клиентов для email-рассылок</td>\n",
       "                        <td id=\"T_076408ea_fb2d_11ea_8786_02420a390389row7_col1\" class=\"data row7 col1\" >10</td>\n",
       "                        <td id=\"T_076408ea_fb2d_11ea_8786_02420a390389row7_col2\" class=\"data row7 col2\" >7</td>\n",
       "                        <td id=\"T_076408ea_fb2d_11ea_8786_02420a390389row7_col3\" class=\"data row7 col3\" >8</td>\n",
       "                        <td id=\"T_076408ea_fb2d_11ea_8786_02420a390389row7_col4\" class=\"data row7 col4\" >5</td>\n",
       "            </tr>\n",
       "            <tr>\n",
       "                        <th id=\"T_076408ea_fb2d_11ea_8786_02420a390389level0_row8\" class=\"row_heading level0 row8\" >8</th>\n",
       "                        <td id=\"T_076408ea_fb2d_11ea_8786_02420a390389row8_col0\" class=\"data row8 col0\" >Запустить акцию, дающую скидку на товар в день рождения</td>\n",
       "                        <td id=\"T_076408ea_fb2d_11ea_8786_02420a390389row8_col1\" class=\"data row8 col1\" >1</td>\n",
       "                        <td id=\"T_076408ea_fb2d_11ea_8786_02420a390389row8_col2\" class=\"data row8 col2\" >9</td>\n",
       "                        <td id=\"T_076408ea_fb2d_11ea_8786_02420a390389row8_col3\" class=\"data row8 col3\" >9</td>\n",
       "                        <td id=\"T_076408ea_fb2d_11ea_8786_02420a390389row8_col4\" class=\"data row8 col4\" >5</td>\n",
       "            </tr>\n",
       "    </tbody></table>"
      ],
      "text/plain": [
       "<pandas.io.formats.style.Styler at 0x7f0a7636c310>"
      ]
     },
     "execution_count": 3,
     "metadata": {},
     "output_type": "execute_result"
    }
   ],
   "source": [
    "hypothesis.style"
   ]
  },
  {
   "cell_type": "markdown",
   "metadata": {},
   "source": [
    "<a id='orders'><h2>Информация о заказах `orders`</h2></a>\n",
    "<a href='#table_of_contents'>В начало</a>"
   ]
  },
  {
   "cell_type": "markdown",
   "metadata": {},
   "source": [
    "1. Прочитаем данные из файла.\n",
    "1. Приведем столбец `date` к типу datetime.\n",
    "1. Переименуем столбцы `transactionId` и `visitorId` в `transaction_id`, `buyer_id`."
   ]
  },
  {
   "cell_type": "code",
   "execution_count": 4,
   "metadata": {},
   "outputs": [],
   "source": [
    "orders = pd.read_csv('/datasets/orders.csv', \n",
    "                     parse_dates=['date'], \n",
    "                     names=['transaction_id', 'buyer_id', 'date', 'revenue', 'group'], \n",
    "                     header=0)"
   ]
  },
  {
   "cell_type": "code",
   "execution_count": 5,
   "metadata": {},
   "outputs": [
    {
     "data": {
      "text/html": [
       "<div>\n",
       "<style scoped>\n",
       "    .dataframe tbody tr th:only-of-type {\n",
       "        vertical-align: middle;\n",
       "    }\n",
       "\n",
       "    .dataframe tbody tr th {\n",
       "        vertical-align: top;\n",
       "    }\n",
       "\n",
       "    .dataframe thead th {\n",
       "        text-align: right;\n",
       "    }\n",
       "</style>\n",
       "<table border=\"1\" class=\"dataframe\">\n",
       "  <thead>\n",
       "    <tr style=\"text-align: right;\">\n",
       "      <th></th>\n",
       "      <th>transaction_id</th>\n",
       "      <th>buyer_id</th>\n",
       "      <th>date</th>\n",
       "      <th>revenue</th>\n",
       "      <th>group</th>\n",
       "    </tr>\n",
       "  </thead>\n",
       "  <tbody>\n",
       "    <tr>\n",
       "      <td>0</td>\n",
       "      <td>3667963787</td>\n",
       "      <td>3312258926</td>\n",
       "      <td>2019-08-15</td>\n",
       "      <td>1650</td>\n",
       "      <td>B</td>\n",
       "    </tr>\n",
       "    <tr>\n",
       "      <td>1</td>\n",
       "      <td>2804400009</td>\n",
       "      <td>3642806036</td>\n",
       "      <td>2019-08-15</td>\n",
       "      <td>730</td>\n",
       "      <td>B</td>\n",
       "    </tr>\n",
       "    <tr>\n",
       "      <td>2</td>\n",
       "      <td>2961555356</td>\n",
       "      <td>4069496402</td>\n",
       "      <td>2019-08-15</td>\n",
       "      <td>400</td>\n",
       "      <td>A</td>\n",
       "    </tr>\n",
       "    <tr>\n",
       "      <td>3</td>\n",
       "      <td>3797467345</td>\n",
       "      <td>1196621759</td>\n",
       "      <td>2019-08-15</td>\n",
       "      <td>9759</td>\n",
       "      <td>B</td>\n",
       "    </tr>\n",
       "    <tr>\n",
       "      <td>4</td>\n",
       "      <td>2282983706</td>\n",
       "      <td>2322279887</td>\n",
       "      <td>2019-08-15</td>\n",
       "      <td>2308</td>\n",
       "      <td>B</td>\n",
       "    </tr>\n",
       "  </tbody>\n",
       "</table>\n",
       "</div>"
      ],
      "text/plain": [
       "   transaction_id    buyer_id       date  revenue group\n",
       "0      3667963787  3312258926 2019-08-15     1650     B\n",
       "1      2804400009  3642806036 2019-08-15      730     B\n",
       "2      2961555356  4069496402 2019-08-15      400     A\n",
       "3      3797467345  1196621759 2019-08-15     9759     B\n",
       "4      2282983706  2322279887 2019-08-15     2308     B"
      ]
     },
     "execution_count": 5,
     "metadata": {},
     "output_type": "execute_result"
    }
   ],
   "source": [
    "orders.head()"
   ]
  },
  {
   "cell_type": "code",
   "execution_count": 6,
   "metadata": {},
   "outputs": [
    {
     "name": "stdout",
     "output_type": "stream",
     "text": [
      "<class 'pandas.core.frame.DataFrame'>\n",
      "RangeIndex: 1197 entries, 0 to 1196\n",
      "Data columns (total 5 columns):\n",
      "transaction_id    1197 non-null int64\n",
      "buyer_id          1197 non-null int64\n",
      "date              1197 non-null datetime64[ns]\n",
      "revenue           1197 non-null int64\n",
      "group             1197 non-null object\n",
      "dtypes: datetime64[ns](1), int64(3), object(1)\n",
      "memory usage: 46.9+ KB\n"
     ]
    }
   ],
   "source": [
    "orders.info()"
   ]
  },
  {
   "cell_type": "markdown",
   "metadata": {},
   "source": [
    "В данных отсутствуют пропущенные значения."
   ]
  },
  {
   "cell_type": "markdown",
   "metadata": {},
   "source": [
    "<a id='visitors'><h2>Информация о визитах `visitors`</h2></a>\n",
    "<a href='#table_of_contents'>В начало</a>"
   ]
  },
  {
   "cell_type": "markdown",
   "metadata": {},
   "source": [
    "1. Прочитаем данные из файла.\n",
    "1. Приведем столбец `date` к типу datetime."
   ]
  },
  {
   "cell_type": "code",
   "execution_count": 7,
   "metadata": {},
   "outputs": [],
   "source": [
    "visitors = pd.read_csv('/datasets/visitors.csv', parse_dates=['date'])\n",
    "visitors.columns = map(str.lower, visitors.columns)"
   ]
  },
  {
   "cell_type": "code",
   "execution_count": 8,
   "metadata": {},
   "outputs": [
    {
     "data": {
      "text/html": [
       "<div>\n",
       "<style scoped>\n",
       "    .dataframe tbody tr th:only-of-type {\n",
       "        vertical-align: middle;\n",
       "    }\n",
       "\n",
       "    .dataframe tbody tr th {\n",
       "        vertical-align: top;\n",
       "    }\n",
       "\n",
       "    .dataframe thead th {\n",
       "        text-align: right;\n",
       "    }\n",
       "</style>\n",
       "<table border=\"1\" class=\"dataframe\">\n",
       "  <thead>\n",
       "    <tr style=\"text-align: right;\">\n",
       "      <th></th>\n",
       "      <th>date</th>\n",
       "      <th>group</th>\n",
       "      <th>visitors</th>\n",
       "    </tr>\n",
       "  </thead>\n",
       "  <tbody>\n",
       "    <tr>\n",
       "      <td>0</td>\n",
       "      <td>2019-08-01</td>\n",
       "      <td>A</td>\n",
       "      <td>719</td>\n",
       "    </tr>\n",
       "    <tr>\n",
       "      <td>1</td>\n",
       "      <td>2019-08-02</td>\n",
       "      <td>A</td>\n",
       "      <td>619</td>\n",
       "    </tr>\n",
       "    <tr>\n",
       "      <td>2</td>\n",
       "      <td>2019-08-03</td>\n",
       "      <td>A</td>\n",
       "      <td>507</td>\n",
       "    </tr>\n",
       "    <tr>\n",
       "      <td>3</td>\n",
       "      <td>2019-08-04</td>\n",
       "      <td>A</td>\n",
       "      <td>717</td>\n",
       "    </tr>\n",
       "    <tr>\n",
       "      <td>4</td>\n",
       "      <td>2019-08-05</td>\n",
       "      <td>A</td>\n",
       "      <td>756</td>\n",
       "    </tr>\n",
       "  </tbody>\n",
       "</table>\n",
       "</div>"
      ],
      "text/plain": [
       "        date group  visitors\n",
       "0 2019-08-01     A       719\n",
       "1 2019-08-02     A       619\n",
       "2 2019-08-03     A       507\n",
       "3 2019-08-04     A       717\n",
       "4 2019-08-05     A       756"
      ]
     },
     "execution_count": 8,
     "metadata": {},
     "output_type": "execute_result"
    }
   ],
   "source": [
    "visitors.head()"
   ]
  },
  {
   "cell_type": "code",
   "execution_count": 9,
   "metadata": {},
   "outputs": [
    {
     "name": "stdout",
     "output_type": "stream",
     "text": [
      "<class 'pandas.core.frame.DataFrame'>\n",
      "RangeIndex: 62 entries, 0 to 61\n",
      "Data columns (total 3 columns):\n",
      "date        62 non-null datetime64[ns]\n",
      "group       62 non-null object\n",
      "visitors    62 non-null int64\n",
      "dtypes: datetime64[ns](1), int64(1), object(1)\n",
      "memory usage: 1.6+ KB\n"
     ]
    }
   ],
   "source": [
    "visitors.info()"
   ]
  },
  {
   "cell_type": "markdown",
   "metadata": {},
   "source": [
    "В данных отсутствуют пропущенные значения."
   ]
  },
  {
   "cell_type": "markdown",
   "metadata": {},
   "source": [
    "<a id='prioritizing'><h1>Приоритизация гипотез</h1></a>\n",
    "<a href='#table_of_contents'>В начало</a>"
   ]
  },
  {
   "cell_type": "code",
   "execution_count": 10,
   "metadata": {
    "scrolled": false
   },
   "outputs": [
    {
     "data": {
      "text/html": [
       "<style  type=\"text/css\" >\n",
       "</style><table id=\"T_07801a80_fb2d_11ea_8786_02420a390389\" ><thead>    <tr>        <th class=\"blank level0\" ></th>        <th class=\"col_heading level0 col0\" >hypothesis</th>        <th class=\"col_heading level0 col1\" >reach</th>        <th class=\"col_heading level0 col2\" >impact</th>        <th class=\"col_heading level0 col3\" >confidence</th>        <th class=\"col_heading level0 col4\" >efforts</th>    </tr></thead><tbody>\n",
       "                <tr>\n",
       "                        <th id=\"T_07801a80_fb2d_11ea_8786_02420a390389level0_row0\" class=\"row_heading level0 row0\" >0</th>\n",
       "                        <td id=\"T_07801a80_fb2d_11ea_8786_02420a390389row0_col0\" class=\"data row0 col0\" >Добавить два новых канала привлечения трафика, что позволит привлекать на 30% больше пользователей</td>\n",
       "                        <td id=\"T_07801a80_fb2d_11ea_8786_02420a390389row0_col1\" class=\"data row0 col1\" >3</td>\n",
       "                        <td id=\"T_07801a80_fb2d_11ea_8786_02420a390389row0_col2\" class=\"data row0 col2\" >10</td>\n",
       "                        <td id=\"T_07801a80_fb2d_11ea_8786_02420a390389row0_col3\" class=\"data row0 col3\" >8</td>\n",
       "                        <td id=\"T_07801a80_fb2d_11ea_8786_02420a390389row0_col4\" class=\"data row0 col4\" >6</td>\n",
       "            </tr>\n",
       "            <tr>\n",
       "                        <th id=\"T_07801a80_fb2d_11ea_8786_02420a390389level0_row1\" class=\"row_heading level0 row1\" >1</th>\n",
       "                        <td id=\"T_07801a80_fb2d_11ea_8786_02420a390389row1_col0\" class=\"data row1 col0\" >Запустить собственную службу доставки, что сократит срок доставки заказов</td>\n",
       "                        <td id=\"T_07801a80_fb2d_11ea_8786_02420a390389row1_col1\" class=\"data row1 col1\" >2</td>\n",
       "                        <td id=\"T_07801a80_fb2d_11ea_8786_02420a390389row1_col2\" class=\"data row1 col2\" >5</td>\n",
       "                        <td id=\"T_07801a80_fb2d_11ea_8786_02420a390389row1_col3\" class=\"data row1 col3\" >4</td>\n",
       "                        <td id=\"T_07801a80_fb2d_11ea_8786_02420a390389row1_col4\" class=\"data row1 col4\" >10</td>\n",
       "            </tr>\n",
       "            <tr>\n",
       "                        <th id=\"T_07801a80_fb2d_11ea_8786_02420a390389level0_row2\" class=\"row_heading level0 row2\" >2</th>\n",
       "                        <td id=\"T_07801a80_fb2d_11ea_8786_02420a390389row2_col0\" class=\"data row2 col0\" >Добавить блоки рекомендаций товаров на сайт интернет магазина, чтобы повысить конверсию и средний чек заказа</td>\n",
       "                        <td id=\"T_07801a80_fb2d_11ea_8786_02420a390389row2_col1\" class=\"data row2 col1\" >8</td>\n",
       "                        <td id=\"T_07801a80_fb2d_11ea_8786_02420a390389row2_col2\" class=\"data row2 col2\" >3</td>\n",
       "                        <td id=\"T_07801a80_fb2d_11ea_8786_02420a390389row2_col3\" class=\"data row2 col3\" >7</td>\n",
       "                        <td id=\"T_07801a80_fb2d_11ea_8786_02420a390389row2_col4\" class=\"data row2 col4\" >3</td>\n",
       "            </tr>\n",
       "            <tr>\n",
       "                        <th id=\"T_07801a80_fb2d_11ea_8786_02420a390389level0_row3\" class=\"row_heading level0 row3\" >3</th>\n",
       "                        <td id=\"T_07801a80_fb2d_11ea_8786_02420a390389row3_col0\" class=\"data row3 col0\" >Изменить структура категорий, что увеличит конверсию, т.к. пользователи быстрее найдут нужный товар</td>\n",
       "                        <td id=\"T_07801a80_fb2d_11ea_8786_02420a390389row3_col1\" class=\"data row3 col1\" >8</td>\n",
       "                        <td id=\"T_07801a80_fb2d_11ea_8786_02420a390389row3_col2\" class=\"data row3 col2\" >3</td>\n",
       "                        <td id=\"T_07801a80_fb2d_11ea_8786_02420a390389row3_col3\" class=\"data row3 col3\" >3</td>\n",
       "                        <td id=\"T_07801a80_fb2d_11ea_8786_02420a390389row3_col4\" class=\"data row3 col4\" >8</td>\n",
       "            </tr>\n",
       "            <tr>\n",
       "                        <th id=\"T_07801a80_fb2d_11ea_8786_02420a390389level0_row4\" class=\"row_heading level0 row4\" >4</th>\n",
       "                        <td id=\"T_07801a80_fb2d_11ea_8786_02420a390389row4_col0\" class=\"data row4 col0\" >Изменить цвет фона главной страницы, чтобы увеличить вовлеченность пользователей</td>\n",
       "                        <td id=\"T_07801a80_fb2d_11ea_8786_02420a390389row4_col1\" class=\"data row4 col1\" >3</td>\n",
       "                        <td id=\"T_07801a80_fb2d_11ea_8786_02420a390389row4_col2\" class=\"data row4 col2\" >1</td>\n",
       "                        <td id=\"T_07801a80_fb2d_11ea_8786_02420a390389row4_col3\" class=\"data row4 col3\" >1</td>\n",
       "                        <td id=\"T_07801a80_fb2d_11ea_8786_02420a390389row4_col4\" class=\"data row4 col4\" >1</td>\n",
       "            </tr>\n",
       "            <tr>\n",
       "                        <th id=\"T_07801a80_fb2d_11ea_8786_02420a390389level0_row5\" class=\"row_heading level0 row5\" >5</th>\n",
       "                        <td id=\"T_07801a80_fb2d_11ea_8786_02420a390389row5_col0\" class=\"data row5 col0\" >Добавить страницу отзывов клиентов о магазине, что позволит увеличить количество заказов</td>\n",
       "                        <td id=\"T_07801a80_fb2d_11ea_8786_02420a390389row5_col1\" class=\"data row5 col1\" >3</td>\n",
       "                        <td id=\"T_07801a80_fb2d_11ea_8786_02420a390389row5_col2\" class=\"data row5 col2\" >2</td>\n",
       "                        <td id=\"T_07801a80_fb2d_11ea_8786_02420a390389row5_col3\" class=\"data row5 col3\" >2</td>\n",
       "                        <td id=\"T_07801a80_fb2d_11ea_8786_02420a390389row5_col4\" class=\"data row5 col4\" >3</td>\n",
       "            </tr>\n",
       "            <tr>\n",
       "                        <th id=\"T_07801a80_fb2d_11ea_8786_02420a390389level0_row6\" class=\"row_heading level0 row6\" >6</th>\n",
       "                        <td id=\"T_07801a80_fb2d_11ea_8786_02420a390389row6_col0\" class=\"data row6 col0\" >Показать на главной странице баннеры с актуальными акциями и распродажами, чтобы увеличить конверсию</td>\n",
       "                        <td id=\"T_07801a80_fb2d_11ea_8786_02420a390389row6_col1\" class=\"data row6 col1\" >5</td>\n",
       "                        <td id=\"T_07801a80_fb2d_11ea_8786_02420a390389row6_col2\" class=\"data row6 col2\" >3</td>\n",
       "                        <td id=\"T_07801a80_fb2d_11ea_8786_02420a390389row6_col3\" class=\"data row6 col3\" >8</td>\n",
       "                        <td id=\"T_07801a80_fb2d_11ea_8786_02420a390389row6_col4\" class=\"data row6 col4\" >3</td>\n",
       "            </tr>\n",
       "            <tr>\n",
       "                        <th id=\"T_07801a80_fb2d_11ea_8786_02420a390389level0_row7\" class=\"row_heading level0 row7\" >7</th>\n",
       "                        <td id=\"T_07801a80_fb2d_11ea_8786_02420a390389row7_col0\" class=\"data row7 col0\" >Добавить форму подписки на все основные страницы, чтобы собрать базу клиентов для email-рассылок</td>\n",
       "                        <td id=\"T_07801a80_fb2d_11ea_8786_02420a390389row7_col1\" class=\"data row7 col1\" >10</td>\n",
       "                        <td id=\"T_07801a80_fb2d_11ea_8786_02420a390389row7_col2\" class=\"data row7 col2\" >7</td>\n",
       "                        <td id=\"T_07801a80_fb2d_11ea_8786_02420a390389row7_col3\" class=\"data row7 col3\" >8</td>\n",
       "                        <td id=\"T_07801a80_fb2d_11ea_8786_02420a390389row7_col4\" class=\"data row7 col4\" >5</td>\n",
       "            </tr>\n",
       "            <tr>\n",
       "                        <th id=\"T_07801a80_fb2d_11ea_8786_02420a390389level0_row8\" class=\"row_heading level0 row8\" >8</th>\n",
       "                        <td id=\"T_07801a80_fb2d_11ea_8786_02420a390389row8_col0\" class=\"data row8 col0\" >Запустить акцию, дающую скидку на товар в день рождения</td>\n",
       "                        <td id=\"T_07801a80_fb2d_11ea_8786_02420a390389row8_col1\" class=\"data row8 col1\" >1</td>\n",
       "                        <td id=\"T_07801a80_fb2d_11ea_8786_02420a390389row8_col2\" class=\"data row8 col2\" >9</td>\n",
       "                        <td id=\"T_07801a80_fb2d_11ea_8786_02420a390389row8_col3\" class=\"data row8 col3\" >9</td>\n",
       "                        <td id=\"T_07801a80_fb2d_11ea_8786_02420a390389row8_col4\" class=\"data row8 col4\" >5</td>\n",
       "            </tr>\n",
       "    </tbody></table>"
      ],
      "text/plain": [
       "<pandas.io.formats.style.Styler at 0x7f0a75c67450>"
      ]
     },
     "execution_count": 10,
     "metadata": {},
     "output_type": "execute_result"
    }
   ],
   "source": [
    "hypothesis.style.format({'hypothesis': '{:>10}'})"
   ]
  },
  {
   "cell_type": "markdown",
   "metadata": {},
   "source": [
    "----\n",
    "### Применим фреймворк ICE для приоритизации гипотез и отсортируем их по убыванию приоритета."
   ]
  },
  {
   "cell_type": "markdown",
   "metadata": {},
   "source": [
    "$$ICE =\\frac{Impact * Confidence}{Efforts}$$"
   ]
  },
  {
   "cell_type": "code",
   "execution_count": 11,
   "metadata": {},
   "outputs": [],
   "source": [
    "ice = (hypothesis['impact'] * hypothesis['confidence'] / hypothesis['efforts']).round().astype('int')\n",
    "col_index = 1\n",
    "\n",
    "hypothesis.insert(loc=1, value=ice, column='ice')"
   ]
  },
  {
   "cell_type": "code",
   "execution_count": 12,
   "metadata": {},
   "outputs": [
    {
     "data": {
      "text/html": [
       "<style  type=\"text/css\" >\n",
       "</style><table id=\"T_078a13aa_fb2d_11ea_8786_02420a390389\" ><thead>    <tr>        <th class=\"blank level0\" ></th>        <th class=\"col_heading level0 col0\" >hypothesis</th>        <th class=\"col_heading level0 col1\" >ice</th>        <th class=\"col_heading level0 col2\" >reach</th>        <th class=\"col_heading level0 col3\" >impact</th>        <th class=\"col_heading level0 col4\" >confidence</th>        <th class=\"col_heading level0 col5\" >efforts</th>    </tr></thead><tbody>\n",
       "                <tr>\n",
       "                        <th id=\"T_078a13aa_fb2d_11ea_8786_02420a390389level0_row0\" class=\"row_heading level0 row0\" >8</th>\n",
       "                        <td id=\"T_078a13aa_fb2d_11ea_8786_02420a390389row0_col0\" class=\"data row0 col0\" >Запустить акцию, дающую скидку на товар в день рождения</td>\n",
       "                        <td id=\"T_078a13aa_fb2d_11ea_8786_02420a390389row0_col1\" class=\"data row0 col1\" >16</td>\n",
       "                        <td id=\"T_078a13aa_fb2d_11ea_8786_02420a390389row0_col2\" class=\"data row0 col2\" >1</td>\n",
       "                        <td id=\"T_078a13aa_fb2d_11ea_8786_02420a390389row0_col3\" class=\"data row0 col3\" >9</td>\n",
       "                        <td id=\"T_078a13aa_fb2d_11ea_8786_02420a390389row0_col4\" class=\"data row0 col4\" >9</td>\n",
       "                        <td id=\"T_078a13aa_fb2d_11ea_8786_02420a390389row0_col5\" class=\"data row0 col5\" >5</td>\n",
       "            </tr>\n",
       "            <tr>\n",
       "                        <th id=\"T_078a13aa_fb2d_11ea_8786_02420a390389level0_row1\" class=\"row_heading level0 row1\" >0</th>\n",
       "                        <td id=\"T_078a13aa_fb2d_11ea_8786_02420a390389row1_col0\" class=\"data row1 col0\" >Добавить два новых канала привлечения трафика, что позволит привлекать на 30% больше пользователей</td>\n",
       "                        <td id=\"T_078a13aa_fb2d_11ea_8786_02420a390389row1_col1\" class=\"data row1 col1\" >13</td>\n",
       "                        <td id=\"T_078a13aa_fb2d_11ea_8786_02420a390389row1_col2\" class=\"data row1 col2\" >3</td>\n",
       "                        <td id=\"T_078a13aa_fb2d_11ea_8786_02420a390389row1_col3\" class=\"data row1 col3\" >10</td>\n",
       "                        <td id=\"T_078a13aa_fb2d_11ea_8786_02420a390389row1_col4\" class=\"data row1 col4\" >8</td>\n",
       "                        <td id=\"T_078a13aa_fb2d_11ea_8786_02420a390389row1_col5\" class=\"data row1 col5\" >6</td>\n",
       "            </tr>\n",
       "            <tr>\n",
       "                        <th id=\"T_078a13aa_fb2d_11ea_8786_02420a390389level0_row2\" class=\"row_heading level0 row2\" >7</th>\n",
       "                        <td id=\"T_078a13aa_fb2d_11ea_8786_02420a390389row2_col0\" class=\"data row2 col0\" >Добавить форму подписки на все основные страницы, чтобы собрать базу клиентов для email-рассылок</td>\n",
       "                        <td id=\"T_078a13aa_fb2d_11ea_8786_02420a390389row2_col1\" class=\"data row2 col1\" >11</td>\n",
       "                        <td id=\"T_078a13aa_fb2d_11ea_8786_02420a390389row2_col2\" class=\"data row2 col2\" >10</td>\n",
       "                        <td id=\"T_078a13aa_fb2d_11ea_8786_02420a390389row2_col3\" class=\"data row2 col3\" >7</td>\n",
       "                        <td id=\"T_078a13aa_fb2d_11ea_8786_02420a390389row2_col4\" class=\"data row2 col4\" >8</td>\n",
       "                        <td id=\"T_078a13aa_fb2d_11ea_8786_02420a390389row2_col5\" class=\"data row2 col5\" >5</td>\n",
       "            </tr>\n",
       "            <tr>\n",
       "                        <th id=\"T_078a13aa_fb2d_11ea_8786_02420a390389level0_row3\" class=\"row_heading level0 row3\" >6</th>\n",
       "                        <td id=\"T_078a13aa_fb2d_11ea_8786_02420a390389row3_col0\" class=\"data row3 col0\" >Показать на главной странице баннеры с актуальными акциями и распродажами, чтобы увеличить конверсию</td>\n",
       "                        <td id=\"T_078a13aa_fb2d_11ea_8786_02420a390389row3_col1\" class=\"data row3 col1\" >8</td>\n",
       "                        <td id=\"T_078a13aa_fb2d_11ea_8786_02420a390389row3_col2\" class=\"data row3 col2\" >5</td>\n",
       "                        <td id=\"T_078a13aa_fb2d_11ea_8786_02420a390389row3_col3\" class=\"data row3 col3\" >3</td>\n",
       "                        <td id=\"T_078a13aa_fb2d_11ea_8786_02420a390389row3_col4\" class=\"data row3 col4\" >8</td>\n",
       "                        <td id=\"T_078a13aa_fb2d_11ea_8786_02420a390389row3_col5\" class=\"data row3 col5\" >3</td>\n",
       "            </tr>\n",
       "            <tr>\n",
       "                        <th id=\"T_078a13aa_fb2d_11ea_8786_02420a390389level0_row4\" class=\"row_heading level0 row4\" >2</th>\n",
       "                        <td id=\"T_078a13aa_fb2d_11ea_8786_02420a390389row4_col0\" class=\"data row4 col0\" >Добавить блоки рекомендаций товаров на сайт интернет магазина, чтобы повысить конверсию и средний чек заказа</td>\n",
       "                        <td id=\"T_078a13aa_fb2d_11ea_8786_02420a390389row4_col1\" class=\"data row4 col1\" >7</td>\n",
       "                        <td id=\"T_078a13aa_fb2d_11ea_8786_02420a390389row4_col2\" class=\"data row4 col2\" >8</td>\n",
       "                        <td id=\"T_078a13aa_fb2d_11ea_8786_02420a390389row4_col3\" class=\"data row4 col3\" >3</td>\n",
       "                        <td id=\"T_078a13aa_fb2d_11ea_8786_02420a390389row4_col4\" class=\"data row4 col4\" >7</td>\n",
       "                        <td id=\"T_078a13aa_fb2d_11ea_8786_02420a390389row4_col5\" class=\"data row4 col5\" >3</td>\n",
       "            </tr>\n",
       "            <tr>\n",
       "                        <th id=\"T_078a13aa_fb2d_11ea_8786_02420a390389level0_row5\" class=\"row_heading level0 row5\" >1</th>\n",
       "                        <td id=\"T_078a13aa_fb2d_11ea_8786_02420a390389row5_col0\" class=\"data row5 col0\" >Запустить собственную службу доставки, что сократит срок доставки заказов</td>\n",
       "                        <td id=\"T_078a13aa_fb2d_11ea_8786_02420a390389row5_col1\" class=\"data row5 col1\" >2</td>\n",
       "                        <td id=\"T_078a13aa_fb2d_11ea_8786_02420a390389row5_col2\" class=\"data row5 col2\" >2</td>\n",
       "                        <td id=\"T_078a13aa_fb2d_11ea_8786_02420a390389row5_col3\" class=\"data row5 col3\" >5</td>\n",
       "                        <td id=\"T_078a13aa_fb2d_11ea_8786_02420a390389row5_col4\" class=\"data row5 col4\" >4</td>\n",
       "                        <td id=\"T_078a13aa_fb2d_11ea_8786_02420a390389row5_col5\" class=\"data row5 col5\" >10</td>\n",
       "            </tr>\n",
       "            <tr>\n",
       "                        <th id=\"T_078a13aa_fb2d_11ea_8786_02420a390389level0_row6\" class=\"row_heading level0 row6\" >3</th>\n",
       "                        <td id=\"T_078a13aa_fb2d_11ea_8786_02420a390389row6_col0\" class=\"data row6 col0\" >Изменить структура категорий, что увеличит конверсию, т.к. пользователи быстрее найдут нужный товар</td>\n",
       "                        <td id=\"T_078a13aa_fb2d_11ea_8786_02420a390389row6_col1\" class=\"data row6 col1\" >1</td>\n",
       "                        <td id=\"T_078a13aa_fb2d_11ea_8786_02420a390389row6_col2\" class=\"data row6 col2\" >8</td>\n",
       "                        <td id=\"T_078a13aa_fb2d_11ea_8786_02420a390389row6_col3\" class=\"data row6 col3\" >3</td>\n",
       "                        <td id=\"T_078a13aa_fb2d_11ea_8786_02420a390389row6_col4\" class=\"data row6 col4\" >3</td>\n",
       "                        <td id=\"T_078a13aa_fb2d_11ea_8786_02420a390389row6_col5\" class=\"data row6 col5\" >8</td>\n",
       "            </tr>\n",
       "            <tr>\n",
       "                        <th id=\"T_078a13aa_fb2d_11ea_8786_02420a390389level0_row7\" class=\"row_heading level0 row7\" >4</th>\n",
       "                        <td id=\"T_078a13aa_fb2d_11ea_8786_02420a390389row7_col0\" class=\"data row7 col0\" >Изменить цвет фона главной страницы, чтобы увеличить вовлеченность пользователей</td>\n",
       "                        <td id=\"T_078a13aa_fb2d_11ea_8786_02420a390389row7_col1\" class=\"data row7 col1\" >1</td>\n",
       "                        <td id=\"T_078a13aa_fb2d_11ea_8786_02420a390389row7_col2\" class=\"data row7 col2\" >3</td>\n",
       "                        <td id=\"T_078a13aa_fb2d_11ea_8786_02420a390389row7_col3\" class=\"data row7 col3\" >1</td>\n",
       "                        <td id=\"T_078a13aa_fb2d_11ea_8786_02420a390389row7_col4\" class=\"data row7 col4\" >1</td>\n",
       "                        <td id=\"T_078a13aa_fb2d_11ea_8786_02420a390389row7_col5\" class=\"data row7 col5\" >1</td>\n",
       "            </tr>\n",
       "            <tr>\n",
       "                        <th id=\"T_078a13aa_fb2d_11ea_8786_02420a390389level0_row8\" class=\"row_heading level0 row8\" >5</th>\n",
       "                        <td id=\"T_078a13aa_fb2d_11ea_8786_02420a390389row8_col0\" class=\"data row8 col0\" >Добавить страницу отзывов клиентов о магазине, что позволит увеличить количество заказов</td>\n",
       "                        <td id=\"T_078a13aa_fb2d_11ea_8786_02420a390389row8_col1\" class=\"data row8 col1\" >1</td>\n",
       "                        <td id=\"T_078a13aa_fb2d_11ea_8786_02420a390389row8_col2\" class=\"data row8 col2\" >3</td>\n",
       "                        <td id=\"T_078a13aa_fb2d_11ea_8786_02420a390389row8_col3\" class=\"data row8 col3\" >2</td>\n",
       "                        <td id=\"T_078a13aa_fb2d_11ea_8786_02420a390389row8_col4\" class=\"data row8 col4\" >2</td>\n",
       "                        <td id=\"T_078a13aa_fb2d_11ea_8786_02420a390389row8_col5\" class=\"data row8 col5\" >3</td>\n",
       "            </tr>\n",
       "    </tbody></table>"
      ],
      "text/plain": [
       "<pandas.io.formats.style.Styler at 0x7f0ac4f4f950>"
      ]
     },
     "execution_count": 12,
     "metadata": {},
     "output_type": "execute_result"
    }
   ],
   "source": [
    "hypothesis.sort_values(by='ice', ascending=False).style"
   ]
  },
  {
   "cell_type": "markdown",
   "metadata": {},
   "source": [
    "### ℹ️ После приоретизации по ICE в топ-5 попали гипотезы 8, 0, 7, 6, 2, у остальных гипотез рейтинг значительно ниже."
   ]
  },
  {
   "cell_type": "markdown",
   "metadata": {},
   "source": [
    "----\n",
    "### Применим фреймворк RICE для приоритизации гипотез и отсортируем по убыванию приоритета."
   ]
  },
  {
   "cell_type": "markdown",
   "metadata": {},
   "source": [
    "$$RICE = \\frac{Reach * Impact * Convidence}{Efforts}$$"
   ]
  },
  {
   "cell_type": "code",
   "execution_count": 13,
   "metadata": {},
   "outputs": [],
   "source": [
    "rice = (hypothesis['reach'] * hypothesis['impact'] * hypothesis['confidence']/hypothesis['efforts']).round().astype('int')\n",
    "col_index = 1\n",
    "\n",
    "hypothesis.insert(loc=1, value=rice, column='rice')"
   ]
  },
  {
   "cell_type": "code",
   "execution_count": 14,
   "metadata": {},
   "outputs": [
    {
     "data": {
      "text/html": [
       "<style  type=\"text/css\" >\n",
       "</style><table id=\"T_078f005e_fb2d_11ea_8786_02420a390389\" ><thead>    <tr>        <th class=\"blank level0\" ></th>        <th class=\"col_heading level0 col0\" >hypothesis</th>        <th class=\"col_heading level0 col1\" >rice</th>        <th class=\"col_heading level0 col2\" >ice</th>        <th class=\"col_heading level0 col3\" >reach</th>        <th class=\"col_heading level0 col4\" >impact</th>        <th class=\"col_heading level0 col5\" >confidence</th>        <th class=\"col_heading level0 col6\" >efforts</th>    </tr></thead><tbody>\n",
       "                <tr>\n",
       "                        <th id=\"T_078f005e_fb2d_11ea_8786_02420a390389level0_row0\" class=\"row_heading level0 row0\" >7</th>\n",
       "                        <td id=\"T_078f005e_fb2d_11ea_8786_02420a390389row0_col0\" class=\"data row0 col0\" >Добавить форму подписки на все основные страницы, чтобы собрать базу клиентов для email-рассылок</td>\n",
       "                        <td id=\"T_078f005e_fb2d_11ea_8786_02420a390389row0_col1\" class=\"data row0 col1\" >112</td>\n",
       "                        <td id=\"T_078f005e_fb2d_11ea_8786_02420a390389row0_col2\" class=\"data row0 col2\" >11</td>\n",
       "                        <td id=\"T_078f005e_fb2d_11ea_8786_02420a390389row0_col3\" class=\"data row0 col3\" >10</td>\n",
       "                        <td id=\"T_078f005e_fb2d_11ea_8786_02420a390389row0_col4\" class=\"data row0 col4\" >7</td>\n",
       "                        <td id=\"T_078f005e_fb2d_11ea_8786_02420a390389row0_col5\" class=\"data row0 col5\" >8</td>\n",
       "                        <td id=\"T_078f005e_fb2d_11ea_8786_02420a390389row0_col6\" class=\"data row0 col6\" >5</td>\n",
       "            </tr>\n",
       "            <tr>\n",
       "                        <th id=\"T_078f005e_fb2d_11ea_8786_02420a390389level0_row1\" class=\"row_heading level0 row1\" >2</th>\n",
       "                        <td id=\"T_078f005e_fb2d_11ea_8786_02420a390389row1_col0\" class=\"data row1 col0\" >Добавить блоки рекомендаций товаров на сайт интернет магазина, чтобы повысить конверсию и средний чек заказа</td>\n",
       "                        <td id=\"T_078f005e_fb2d_11ea_8786_02420a390389row1_col1\" class=\"data row1 col1\" >56</td>\n",
       "                        <td id=\"T_078f005e_fb2d_11ea_8786_02420a390389row1_col2\" class=\"data row1 col2\" >7</td>\n",
       "                        <td id=\"T_078f005e_fb2d_11ea_8786_02420a390389row1_col3\" class=\"data row1 col3\" >8</td>\n",
       "                        <td id=\"T_078f005e_fb2d_11ea_8786_02420a390389row1_col4\" class=\"data row1 col4\" >3</td>\n",
       "                        <td id=\"T_078f005e_fb2d_11ea_8786_02420a390389row1_col5\" class=\"data row1 col5\" >7</td>\n",
       "                        <td id=\"T_078f005e_fb2d_11ea_8786_02420a390389row1_col6\" class=\"data row1 col6\" >3</td>\n",
       "            </tr>\n",
       "            <tr>\n",
       "                        <th id=\"T_078f005e_fb2d_11ea_8786_02420a390389level0_row2\" class=\"row_heading level0 row2\" >0</th>\n",
       "                        <td id=\"T_078f005e_fb2d_11ea_8786_02420a390389row2_col0\" class=\"data row2 col0\" >Добавить два новых канала привлечения трафика, что позволит привлекать на 30% больше пользователей</td>\n",
       "                        <td id=\"T_078f005e_fb2d_11ea_8786_02420a390389row2_col1\" class=\"data row2 col1\" >40</td>\n",
       "                        <td id=\"T_078f005e_fb2d_11ea_8786_02420a390389row2_col2\" class=\"data row2 col2\" >13</td>\n",
       "                        <td id=\"T_078f005e_fb2d_11ea_8786_02420a390389row2_col3\" class=\"data row2 col3\" >3</td>\n",
       "                        <td id=\"T_078f005e_fb2d_11ea_8786_02420a390389row2_col4\" class=\"data row2 col4\" >10</td>\n",
       "                        <td id=\"T_078f005e_fb2d_11ea_8786_02420a390389row2_col5\" class=\"data row2 col5\" >8</td>\n",
       "                        <td id=\"T_078f005e_fb2d_11ea_8786_02420a390389row2_col6\" class=\"data row2 col6\" >6</td>\n",
       "            </tr>\n",
       "            <tr>\n",
       "                        <th id=\"T_078f005e_fb2d_11ea_8786_02420a390389level0_row3\" class=\"row_heading level0 row3\" >6</th>\n",
       "                        <td id=\"T_078f005e_fb2d_11ea_8786_02420a390389row3_col0\" class=\"data row3 col0\" >Показать на главной странице баннеры с актуальными акциями и распродажами, чтобы увеличить конверсию</td>\n",
       "                        <td id=\"T_078f005e_fb2d_11ea_8786_02420a390389row3_col1\" class=\"data row3 col1\" >40</td>\n",
       "                        <td id=\"T_078f005e_fb2d_11ea_8786_02420a390389row3_col2\" class=\"data row3 col2\" >8</td>\n",
       "                        <td id=\"T_078f005e_fb2d_11ea_8786_02420a390389row3_col3\" class=\"data row3 col3\" >5</td>\n",
       "                        <td id=\"T_078f005e_fb2d_11ea_8786_02420a390389row3_col4\" class=\"data row3 col4\" >3</td>\n",
       "                        <td id=\"T_078f005e_fb2d_11ea_8786_02420a390389row3_col5\" class=\"data row3 col5\" >8</td>\n",
       "                        <td id=\"T_078f005e_fb2d_11ea_8786_02420a390389row3_col6\" class=\"data row3 col6\" >3</td>\n",
       "            </tr>\n",
       "            <tr>\n",
       "                        <th id=\"T_078f005e_fb2d_11ea_8786_02420a390389level0_row4\" class=\"row_heading level0 row4\" >8</th>\n",
       "                        <td id=\"T_078f005e_fb2d_11ea_8786_02420a390389row4_col0\" class=\"data row4 col0\" >Запустить акцию, дающую скидку на товар в день рождения</td>\n",
       "                        <td id=\"T_078f005e_fb2d_11ea_8786_02420a390389row4_col1\" class=\"data row4 col1\" >16</td>\n",
       "                        <td id=\"T_078f005e_fb2d_11ea_8786_02420a390389row4_col2\" class=\"data row4 col2\" >16</td>\n",
       "                        <td id=\"T_078f005e_fb2d_11ea_8786_02420a390389row4_col3\" class=\"data row4 col3\" >1</td>\n",
       "                        <td id=\"T_078f005e_fb2d_11ea_8786_02420a390389row4_col4\" class=\"data row4 col4\" >9</td>\n",
       "                        <td id=\"T_078f005e_fb2d_11ea_8786_02420a390389row4_col5\" class=\"data row4 col5\" >9</td>\n",
       "                        <td id=\"T_078f005e_fb2d_11ea_8786_02420a390389row4_col6\" class=\"data row4 col6\" >5</td>\n",
       "            </tr>\n",
       "            <tr>\n",
       "                        <th id=\"T_078f005e_fb2d_11ea_8786_02420a390389level0_row5\" class=\"row_heading level0 row5\" >3</th>\n",
       "                        <td id=\"T_078f005e_fb2d_11ea_8786_02420a390389row5_col0\" class=\"data row5 col0\" >Изменить структура категорий, что увеличит конверсию, т.к. пользователи быстрее найдут нужный товар</td>\n",
       "                        <td id=\"T_078f005e_fb2d_11ea_8786_02420a390389row5_col1\" class=\"data row5 col1\" >9</td>\n",
       "                        <td id=\"T_078f005e_fb2d_11ea_8786_02420a390389row5_col2\" class=\"data row5 col2\" >1</td>\n",
       "                        <td id=\"T_078f005e_fb2d_11ea_8786_02420a390389row5_col3\" class=\"data row5 col3\" >8</td>\n",
       "                        <td id=\"T_078f005e_fb2d_11ea_8786_02420a390389row5_col4\" class=\"data row5 col4\" >3</td>\n",
       "                        <td id=\"T_078f005e_fb2d_11ea_8786_02420a390389row5_col5\" class=\"data row5 col5\" >3</td>\n",
       "                        <td id=\"T_078f005e_fb2d_11ea_8786_02420a390389row5_col6\" class=\"data row5 col6\" >8</td>\n",
       "            </tr>\n",
       "            <tr>\n",
       "                        <th id=\"T_078f005e_fb2d_11ea_8786_02420a390389level0_row6\" class=\"row_heading level0 row6\" >1</th>\n",
       "                        <td id=\"T_078f005e_fb2d_11ea_8786_02420a390389row6_col0\" class=\"data row6 col0\" >Запустить собственную службу доставки, что сократит срок доставки заказов</td>\n",
       "                        <td id=\"T_078f005e_fb2d_11ea_8786_02420a390389row6_col1\" class=\"data row6 col1\" >4</td>\n",
       "                        <td id=\"T_078f005e_fb2d_11ea_8786_02420a390389row6_col2\" class=\"data row6 col2\" >2</td>\n",
       "                        <td id=\"T_078f005e_fb2d_11ea_8786_02420a390389row6_col3\" class=\"data row6 col3\" >2</td>\n",
       "                        <td id=\"T_078f005e_fb2d_11ea_8786_02420a390389row6_col4\" class=\"data row6 col4\" >5</td>\n",
       "                        <td id=\"T_078f005e_fb2d_11ea_8786_02420a390389row6_col5\" class=\"data row6 col5\" >4</td>\n",
       "                        <td id=\"T_078f005e_fb2d_11ea_8786_02420a390389row6_col6\" class=\"data row6 col6\" >10</td>\n",
       "            </tr>\n",
       "            <tr>\n",
       "                        <th id=\"T_078f005e_fb2d_11ea_8786_02420a390389level0_row7\" class=\"row_heading level0 row7\" >5</th>\n",
       "                        <td id=\"T_078f005e_fb2d_11ea_8786_02420a390389row7_col0\" class=\"data row7 col0\" >Добавить страницу отзывов клиентов о магазине, что позволит увеличить количество заказов</td>\n",
       "                        <td id=\"T_078f005e_fb2d_11ea_8786_02420a390389row7_col1\" class=\"data row7 col1\" >4</td>\n",
       "                        <td id=\"T_078f005e_fb2d_11ea_8786_02420a390389row7_col2\" class=\"data row7 col2\" >1</td>\n",
       "                        <td id=\"T_078f005e_fb2d_11ea_8786_02420a390389row7_col3\" class=\"data row7 col3\" >3</td>\n",
       "                        <td id=\"T_078f005e_fb2d_11ea_8786_02420a390389row7_col4\" class=\"data row7 col4\" >2</td>\n",
       "                        <td id=\"T_078f005e_fb2d_11ea_8786_02420a390389row7_col5\" class=\"data row7 col5\" >2</td>\n",
       "                        <td id=\"T_078f005e_fb2d_11ea_8786_02420a390389row7_col6\" class=\"data row7 col6\" >3</td>\n",
       "            </tr>\n",
       "            <tr>\n",
       "                        <th id=\"T_078f005e_fb2d_11ea_8786_02420a390389level0_row8\" class=\"row_heading level0 row8\" >4</th>\n",
       "                        <td id=\"T_078f005e_fb2d_11ea_8786_02420a390389row8_col0\" class=\"data row8 col0\" >Изменить цвет фона главной страницы, чтобы увеличить вовлеченность пользователей</td>\n",
       "                        <td id=\"T_078f005e_fb2d_11ea_8786_02420a390389row8_col1\" class=\"data row8 col1\" >3</td>\n",
       "                        <td id=\"T_078f005e_fb2d_11ea_8786_02420a390389row8_col2\" class=\"data row8 col2\" >1</td>\n",
       "                        <td id=\"T_078f005e_fb2d_11ea_8786_02420a390389row8_col3\" class=\"data row8 col3\" >3</td>\n",
       "                        <td id=\"T_078f005e_fb2d_11ea_8786_02420a390389row8_col4\" class=\"data row8 col4\" >1</td>\n",
       "                        <td id=\"T_078f005e_fb2d_11ea_8786_02420a390389row8_col5\" class=\"data row8 col5\" >1</td>\n",
       "                        <td id=\"T_078f005e_fb2d_11ea_8786_02420a390389row8_col6\" class=\"data row8 col6\" >1</td>\n",
       "            </tr>\n",
       "    </tbody></table>"
      ],
      "text/plain": [
       "<pandas.io.formats.style.Styler at 0x7f0a75c70150>"
      ]
     },
     "execution_count": 14,
     "metadata": {},
     "output_type": "execute_result"
    }
   ],
   "source": [
    "hypothesis.sort_values(by='rice', ascending=False).style"
   ]
  },
  {
   "cell_type": "markdown",
   "metadata": {},
   "source": [
    "### ℹ️После приоретизации по RICE в топ-5 попали гипотезы 7, 2, 0, 6, 8, у остальных гипотез рейтинг значительно ниже."
   ]
  },
  {
   "cell_type": "markdown",
   "metadata": {},
   "source": [
    "----\n",
    "### Как изменилась приоритизация гипотез при применении RICE вместо ICE."
   ]
  },
  {
   "cell_type": "markdown",
   "metadata": {},
   "source": [
    "После приоретизации по RICE гипотеза 8, у которой был максимальный рейтирг в ICE, опустилась на 5 место, за счет того, что ее охват будет самым низким. \n",
    "\n",
    "Тогда как гипотеза 7, которая была 3 в рейтинге ICE с большим отрывом по очкамм поднялась на 1 место в RICE. \n",
    "\n",
    "То же самое произошло с гипотезой 2, благодаря высокому значению охвата, в RICE эта гипотеза поднялась с 5 на 2 место.\n",
    "\n",
    "----\n",
    "\n",
    "- При проверке гипотезы важно учитывать объем аудитории, которую она затронет, от этого зависит насколько большой эффект будет получен. \n",
    "- Гипотезы с широким охватом можно будет проверить точнее и в более короткие сроки.\n",
    "- При приоретизации гипотез мы будем использовать RICE. Однако, здесь важно насколько возможно четко определить реальный охват для гипотезы."
   ]
  },
  {
   "cell_type": "markdown",
   "metadata": {},
   "source": [
    "<a id='ab_test_analyzing'><h1>Анализ A/B-теста</h1></a>\n",
    "<a href='#table_of_contents'>В начало</a>"
   ]
  },
  {
   "cell_type": "markdown",
   "metadata": {},
   "source": [
    "Проанализируйте A/B-тест:\n",
    "1. [x] <a href='#1'>Постройте график кумулятивной выручки по группам. Сделайте выводы и предположения.</a>\n",
    "1. [x] <a href='#2'>Постройте график кумулятивного среднего чека по группам. Сделайте выводы и предположения.</a>\n",
    "1. [x] <a href='#3'>Постройте график относительного изменения кумулятивного среднего чека группы B к группе A. Сделайте выводы и предположения.</a>\n",
    "1. [x] <a href='#4'>Постройте график кумулятивной конверсии по группам. Сделайте выводы и предположения.</a>\n",
    "1. [x] <a href='#5'>Постройте график относительного изменения кумулятивной конверсии группы B к группе A. Сделайте выводы и предположения.</a>\n",
    "1. [x] <a href='#6'>Постройте точечный график количества заказов по пользователям. Сделайте выводы и предположения.</a>\n",
    "1. [x] <a href='#7'>Посчитайте 95-й и 99-й перцентили количества заказов на пользователя. Выберите границу для определения аномальных пользователей.</a>\n",
    "1. [x] <a href='#8'>Постройте точечный график стоимостей заказов. Сделайте выводы и предположения.</a>\n",
    "1. [x] <a href='#9'>Посчитайте 95-й и 99-й перцентили стоимости заказов. Выберите границу для определения аномальных заказов.</a>\n",
    "1. [x] <a href='#10'>Посчитайте статистическую значимость различий в конверсии между группами по «сырым» данным. Сделайте выводы и предположения.</a>\n",
    "1. [x] <a href='#11'>Посчитайте статистическую значимость различий в конверсии между группами по «очищенным» данным. Сделайте выводы и предположения.</a>\n",
    "1. [x] <a href='#12'>Посчитайте статистическую значимость различий в среднем чеке заказа между группами по «сырым» данным. Сделайте выводы и предположения.</a>\n",
    "1. [x] <a href='#13'>Посчитайте статистическую значимость различий в среднем чеке заказа между группами по «очищенным» данным. Сделайте выводы и предположения.</a>\n",
    "1. [x] <a href='#14'>Примите решение по результатам теста и объясните его. Варианты решений: 1. Остановить тест, зафиксировать победу одной из групп. 2. Остановить тест, зафиксировать отсутствие различий между группами. 3. Продолжить тест.</a>"
   ]
  },
  {
   "cell_type": "markdown",
   "metadata": {},
   "source": [
    "<a id='1'><h2>1. График кумулятивной выручки по группам</h2></a>\n",
    "<a href='#table_of_contents'>В начало</a>"
   ]
  },
  {
   "cell_type": "markdown",
   "metadata": {},
   "source": [
    "### Для каждой пары Дата+Группа рассчитаем куммулятивное значение выручки и куммулятивное значение количества заказов."
   ]
  },
  {
   "cell_type": "code",
   "execution_count": 15,
   "metadata": {},
   "outputs": [],
   "source": [
    "# выберем уникальные пары дата+группа и удалим дубликаты\n",
    "datesGroups = orders[['date', 'group']].drop_duplicates()\n",
    "\n",
    "# для каждой пары дата+группа посчитаем куммулятивное значение выручки и количества заказов\n",
    "ordersAggregated = datesGroups.apply(lambda x: \\\n",
    "orders[np.logical_and(orders['date'] <= x['date'], orders['group'] == x['group'])]\\\n",
    ".agg({'date': 'max', \n",
    "      'group': 'max', \n",
    "      'revenue': 'sum', \n",
    "      'buyer_id': pd.Series.nunique, \n",
    "      'transaction_id': pd.Series.nunique}), axis=1)\\\n",
    ".sort_values(by=['date', 'group'])\\\n",
    ".rename(columns={\"buyer_id\": \"buyers\", \n",
    "                 \"transaction_id\": \"transactions\"})"
   ]
  },
  {
   "cell_type": "code",
   "execution_count": 16,
   "metadata": {},
   "outputs": [
    {
     "data": {
      "text/html": [
       "<div>\n",
       "<style scoped>\n",
       "    .dataframe tbody tr th:only-of-type {\n",
       "        vertical-align: middle;\n",
       "    }\n",
       "\n",
       "    .dataframe tbody tr th {\n",
       "        vertical-align: top;\n",
       "    }\n",
       "\n",
       "    .dataframe thead th {\n",
       "        text-align: right;\n",
       "    }\n",
       "</style>\n",
       "<table border=\"1\" class=\"dataframe\">\n",
       "  <thead>\n",
       "    <tr style=\"text-align: right;\">\n",
       "      <th></th>\n",
       "      <th>date</th>\n",
       "      <th>group</th>\n",
       "      <th>revenue</th>\n",
       "      <th>buyers</th>\n",
       "      <th>transactions</th>\n",
       "    </tr>\n",
       "  </thead>\n",
       "  <tbody>\n",
       "    <tr>\n",
       "      <td>55</td>\n",
       "      <td>2019-08-01</td>\n",
       "      <td>A</td>\n",
       "      <td>148579</td>\n",
       "      <td>20</td>\n",
       "      <td>24</td>\n",
       "    </tr>\n",
       "    <tr>\n",
       "      <td>66</td>\n",
       "      <td>2019-08-01</td>\n",
       "      <td>B</td>\n",
       "      <td>101217</td>\n",
       "      <td>20</td>\n",
       "      <td>21</td>\n",
       "    </tr>\n",
       "    <tr>\n",
       "      <td>175</td>\n",
       "      <td>2019-08-02</td>\n",
       "      <td>A</td>\n",
       "      <td>242401</td>\n",
       "      <td>38</td>\n",
       "      <td>44</td>\n",
       "    </tr>\n",
       "    <tr>\n",
       "      <td>173</td>\n",
       "      <td>2019-08-02</td>\n",
       "      <td>B</td>\n",
       "      <td>266748</td>\n",
       "      <td>43</td>\n",
       "      <td>45</td>\n",
       "    </tr>\n",
       "    <tr>\n",
       "      <td>291</td>\n",
       "      <td>2019-08-03</td>\n",
       "      <td>A</td>\n",
       "      <td>354874</td>\n",
       "      <td>62</td>\n",
       "      <td>68</td>\n",
       "    </tr>\n",
       "  </tbody>\n",
       "</table>\n",
       "</div>"
      ],
      "text/plain": [
       "          date group  revenue  buyers  transactions\n",
       "55  2019-08-01     A   148579      20            24\n",
       "66  2019-08-01     B   101217      20            21\n",
       "175 2019-08-02     A   242401      38            44\n",
       "173 2019-08-02     B   266748      43            45\n",
       "291 2019-08-03     A   354874      62            68"
      ]
     },
     "execution_count": 16,
     "metadata": {},
     "output_type": "execute_result"
    }
   ],
   "source": [
    "ordersAggregated.head()"
   ]
  },
  {
   "cell_type": "markdown",
   "metadata": {},
   "source": [
    "### Сформируем сводную таблицу, где в строках даты, в столбцах группы, в ячейках куммулятивное значение выручки на день."
   ]
  },
  {
   "cell_type": "code",
   "execution_count": 17,
   "metadata": {},
   "outputs": [],
   "source": [
    "cum_revenue = ordersAggregated.pivot_table(index='date', columns='group', values='revenue', aggfunc='sum')\n",
    "cum_revenue.columns = ['A', 'B']"
   ]
  },
  {
   "cell_type": "code",
   "execution_count": 18,
   "metadata": {},
   "outputs": [
    {
     "data": {
      "text/html": [
       "<div>\n",
       "<style scoped>\n",
       "    .dataframe tbody tr th:only-of-type {\n",
       "        vertical-align: middle;\n",
       "    }\n",
       "\n",
       "    .dataframe tbody tr th {\n",
       "        vertical-align: top;\n",
       "    }\n",
       "\n",
       "    .dataframe thead th {\n",
       "        text-align: right;\n",
       "    }\n",
       "</style>\n",
       "<table border=\"1\" class=\"dataframe\">\n",
       "  <thead>\n",
       "    <tr style=\"text-align: right;\">\n",
       "      <th></th>\n",
       "      <th>A</th>\n",
       "      <th>B</th>\n",
       "    </tr>\n",
       "    <tr>\n",
       "      <th>date</th>\n",
       "      <th></th>\n",
       "      <th></th>\n",
       "    </tr>\n",
       "  </thead>\n",
       "  <tbody>\n",
       "    <tr>\n",
       "      <td>2019-08-01</td>\n",
       "      <td>148579</td>\n",
       "      <td>101217</td>\n",
       "    </tr>\n",
       "    <tr>\n",
       "      <td>2019-08-02</td>\n",
       "      <td>242401</td>\n",
       "      <td>266748</td>\n",
       "    </tr>\n",
       "    <tr>\n",
       "      <td>2019-08-03</td>\n",
       "      <td>354874</td>\n",
       "      <td>380996</td>\n",
       "    </tr>\n",
       "    <tr>\n",
       "      <td>2019-08-04</td>\n",
       "      <td>425699</td>\n",
       "      <td>489567</td>\n",
       "    </tr>\n",
       "    <tr>\n",
       "      <td>2019-08-05</td>\n",
       "      <td>549917</td>\n",
       "      <td>581995</td>\n",
       "    </tr>\n",
       "  </tbody>\n",
       "</table>\n",
       "</div>"
      ],
      "text/plain": [
       "                 A       B\n",
       "date                      \n",
       "2019-08-01  148579  101217\n",
       "2019-08-02  242401  266748\n",
       "2019-08-03  354874  380996\n",
       "2019-08-04  425699  489567\n",
       "2019-08-05  549917  581995"
      ]
     },
     "execution_count": 18,
     "metadata": {},
     "output_type": "execute_result"
    }
   ],
   "source": [
    "cum_revenue.head()"
   ]
  },
  {
   "cell_type": "markdown",
   "metadata": {},
   "source": [
    "### Выведем значения куммулятивной выручки по группам на график."
   ]
  },
  {
   "cell_type": "code",
   "execution_count": 19,
   "metadata": {},
   "outputs": [],
   "source": [
    "from pandas.plotting import register_matplotlib_converters\n",
    "register_matplotlib_converters()"
   ]
  },
  {
   "cell_type": "code",
   "execution_count": 20,
   "metadata": {},
   "outputs": [
    {
     "data": {
      "image/png": "[encoded data removed]",
      "text/plain": [
       "<Figure size 1080x360 with 1 Axes>"
      ]
     },
     "metadata": {
      "needs_background": "light"
     },
     "output_type": "display_data"
    }
   ],
   "source": [
    "plt.figure(figsize=(15, 5))\n",
    "plt.plot(cum_revenue.index, cum_revenue['A'], label='A')\n",
    "plt.plot(cum_revenue.index, cum_revenue['B'], label='B')\n",
    "plt.title('График куммулятивной выручки по группам')\n",
    "plt.grid(True)\n",
    "plt.legend()\n",
    "plt.xlabel('Дата')\n",
    "plt.ylabel('Сумма')\n",
    "plt.xlim(left=cum_revenue.index[0])\n",
    "plt.ylim((0, \\\n",
    "          max(cum_revenue['A'].max(), cum_revenue['B'].max())+1e6))\n",
    "plt.axvline(x='2019-08-19 00:00:00', color='gray', linestyle='--')\n",
    "plt.show()"
   ]
  },
  {
   "cell_type": "markdown",
   "metadata": {},
   "source": [
    "---\n",
    "\n",
    "<div class=\"alert alert-block alert-warning\">\n",
    "    \n",
    "\n",
    "### Комментарий ревьюера\n",
    "\n",
    "\n",
    "Чтобы убрать техническую информацию от `matplotlib`, можно использовать метод `plt.show()` или поставить после инициализации графика `;`\n",
    "</div>\n",
    "\n",
    "---"
   ]
  },
  {
   "cell_type": "markdown",
   "metadata": {},
   "source": [
    "----\n",
    "ℹ️ На графике куммулятивной выручки виден резкий скачок 19.08.2019 в группе B, вероятнее всего связанный с крупной покупкой в этой группе, из-за чего существенно выросло различие между двумя группами."
   ]
  },
  {
   "cell_type": "markdown",
   "metadata": {},
   "source": [
    "<a id='2'><h2>2. График кумулятивного среднего чека по группам</h2></a>\n",
    "<a href='#table_of_contents'>В начало</a>\n",
    "\n",
    "Рассчитаем средний чек по группам, для этого куммулятивную выручку разделим на количество заказов на этот день. "
   ]
  },
  {
   "cell_type": "markdown",
   "metadata": {},
   "source": [
    "$$average\\_check = \\frac{revenue}{orders}$$"
   ]
  },
  {
   "cell_type": "markdown",
   "metadata": {},
   "source": [
    "### Сформируем сводную таблицу, где в строках даты, в столбцах группы, в ячейках куммулятивное значение количества заказов на день."
   ]
  },
  {
   "cell_type": "code",
   "execution_count": 21,
   "metadata": {},
   "outputs": [
    {
     "data": {
      "text/html": [
       "<div>\n",
       "<style scoped>\n",
       "    .dataframe tbody tr th:only-of-type {\n",
       "        vertical-align: middle;\n",
       "    }\n",
       "\n",
       "    .dataframe tbody tr th {\n",
       "        vertical-align: top;\n",
       "    }\n",
       "\n",
       "    .dataframe thead th {\n",
       "        text-align: right;\n",
       "    }\n",
       "</style>\n",
       "<table border=\"1\" class=\"dataframe\">\n",
       "  <thead>\n",
       "    <tr style=\"text-align: right;\">\n",
       "      <th></th>\n",
       "      <th>A</th>\n",
       "      <th>B</th>\n",
       "    </tr>\n",
       "    <tr>\n",
       "      <th>date</th>\n",
       "      <th></th>\n",
       "      <th></th>\n",
       "    </tr>\n",
       "  </thead>\n",
       "  <tbody>\n",
       "    <tr>\n",
       "      <td>2019-08-01</td>\n",
       "      <td>24</td>\n",
       "      <td>21</td>\n",
       "    </tr>\n",
       "    <tr>\n",
       "      <td>2019-08-02</td>\n",
       "      <td>44</td>\n",
       "      <td>45</td>\n",
       "    </tr>\n",
       "    <tr>\n",
       "      <td>2019-08-03</td>\n",
       "      <td>68</td>\n",
       "      <td>61</td>\n",
       "    </tr>\n",
       "    <tr>\n",
       "      <td>2019-08-04</td>\n",
       "      <td>84</td>\n",
       "      <td>78</td>\n",
       "    </tr>\n",
       "    <tr>\n",
       "      <td>2019-08-05</td>\n",
       "      <td>109</td>\n",
       "      <td>101</td>\n",
       "    </tr>\n",
       "  </tbody>\n",
       "</table>\n",
       "</div>"
      ],
      "text/plain": [
       "              A    B\n",
       "date                \n",
       "2019-08-01   24   21\n",
       "2019-08-02   44   45\n",
       "2019-08-03   68   61\n",
       "2019-08-04   84   78\n",
       "2019-08-05  109  101"
      ]
     },
     "execution_count": 21,
     "metadata": {},
     "output_type": "execute_result"
    }
   ],
   "source": [
    "cum_orders = ordersAggregated.pivot_table(index='date', columns='group', values='transactions', aggfunc='sum')\n",
    "cum_orders.columns = ['A', 'B']\n",
    "cum_orders.head()"
   ]
  },
  {
   "cell_type": "markdown",
   "metadata": {},
   "source": [
    "### Рассчитаем средний чек по группам по дням."
   ]
  },
  {
   "cell_type": "code",
   "execution_count": 22,
   "metadata": {},
   "outputs": [],
   "source": [
    "avg_check = (cum_revenue/cum_orders).round(2)"
   ]
  },
  {
   "cell_type": "code",
   "execution_count": 23,
   "metadata": {},
   "outputs": [
    {
     "data": {
      "text/html": [
       "<div>\n",
       "<style scoped>\n",
       "    .dataframe tbody tr th:only-of-type {\n",
       "        vertical-align: middle;\n",
       "    }\n",
       "\n",
       "    .dataframe tbody tr th {\n",
       "        vertical-align: top;\n",
       "    }\n",
       "\n",
       "    .dataframe thead th {\n",
       "        text-align: right;\n",
       "    }\n",
       "</style>\n",
       "<table border=\"1\" class=\"dataframe\">\n",
       "  <thead>\n",
       "    <tr style=\"text-align: right;\">\n",
       "      <th></th>\n",
       "      <th>A</th>\n",
       "      <th>B</th>\n",
       "    </tr>\n",
       "    <tr>\n",
       "      <th>date</th>\n",
       "      <th></th>\n",
       "      <th></th>\n",
       "    </tr>\n",
       "  </thead>\n",
       "  <tbody>\n",
       "    <tr>\n",
       "      <td>2019-08-01</td>\n",
       "      <td>6190.79</td>\n",
       "      <td>4819.86</td>\n",
       "    </tr>\n",
       "    <tr>\n",
       "      <td>2019-08-02</td>\n",
       "      <td>5509.11</td>\n",
       "      <td>5927.73</td>\n",
       "    </tr>\n",
       "    <tr>\n",
       "      <td>2019-08-03</td>\n",
       "      <td>5218.74</td>\n",
       "      <td>6245.84</td>\n",
       "    </tr>\n",
       "  </tbody>\n",
       "</table>\n",
       "</div>"
      ],
      "text/plain": [
       "                  A        B\n",
       "date                        \n",
       "2019-08-01  6190.79  4819.86\n",
       "2019-08-02  5509.11  5927.73\n",
       "2019-08-03  5218.74  6245.84"
      ]
     },
     "execution_count": 23,
     "metadata": {},
     "output_type": "execute_result"
    }
   ],
   "source": [
    "avg_check.head(3)"
   ]
  },
  {
   "cell_type": "markdown",
   "metadata": {},
   "source": [
    "### Выведем значение куммулятивного среднего чека на график."
   ]
  },
  {
   "cell_type": "code",
   "execution_count": 24,
   "metadata": {},
   "outputs": [
    {
     "data": {
      "image/png": "[encoded data removed]",
      "text/plain": [
       "<Figure size 1080x360 with 1 Axes>"
      ]
     },
     "metadata": {
      "needs_background": "light"
     },
     "output_type": "display_data"
    }
   ],
   "source": [
    "plt.figure(figsize=(15, 5))\n",
    "plt.plot(avg_check.index, avg_check['A'], label='A')\n",
    "plt.plot(avg_check.index, avg_check['B'], label='B')\n",
    "plt.title('График куммулятивной среднего чека по группам')\n",
    "plt.grid(True)\n",
    "plt.legend()\n",
    "plt.xlabel('Дата')\n",
    "plt.ylabel('Сумма')\n",
    "plt.xlim(left=avg_check.index[0])\n",
    "plt.ylim((0, \\\n",
    "          max(avg_check['A'].max(), avg_check['B'].max())+1e3))\n",
    "plt.axvline(x='2019-08-19 00:00:00', color='gray', linestyle='--', \n",
    "            in_layout=True, label='09', visible=True, markevery=1000, gid='kjkj', )\n",
    "plt.show()"
   ]
  },
  {
   "cell_type": "markdown",
   "metadata": {},
   "source": [
    "----\n",
    "ℹ️ На графике куммулятивного среднего чека, также как на графике куммулятивной выручки, виден резкий скачок 19.08.2019 в группе B, вероятнее всего связанный с крупной покупкой в группе. Есть чуть более резкие, чем обычно изменения в группе Б - 05.08.2020 и в группе А - 13.08.2020."
   ]
  },
  {
   "cell_type": "code",
   "execution_count": null,
   "metadata": {},
   "outputs": [],
   "source": []
  },
  {
   "cell_type": "markdown",
   "metadata": {},
   "source": [
    "<a id='3'><h2>3. График относительного изменения кумулятивного среднего чека группы B к группе A</h2></a>\n",
    "<a href='#table_of_contents'>В начало</a>\n",
    "\n",
    "Рассчитаем относительное различие для среднего чека. Если значение \"-\" значит значение в группе B ниже, чем в группе A, если \"+\" - наоборот."
   ]
  },
  {
   "cell_type": "markdown",
   "metadata": {},
   "source": [
    "$$relative\\_difference\\_averege\\_check = \\frac{averege\\_check\\_B}{averege\\_check\\_A} - 1$$"
   ]
  },
  {
   "cell_type": "code",
   "execution_count": 25,
   "metadata": {},
   "outputs": [],
   "source": [
    "avg_check['rel_dif'] = avg_check['B']/avg_check['A'] - 1\n",
    "#avg_check.head()"
   ]
  },
  {
   "cell_type": "code",
   "execution_count": 26,
   "metadata": {},
   "outputs": [
    {
     "data": {
      "text/plain": [
       "<matplotlib.lines.Line2D at 0x7f0a8e270b90>"
      ]
     },
     "execution_count": 26,
     "metadata": {},
     "output_type": "execute_result"
    },
    {
     "data": {
      "image/png": "[encoded data removed]",
      "text/plain": [
       "<Figure size 1080x360 with 1 Axes>"
      ]
     },
     "metadata": {
      "needs_background": "light"
     },
     "output_type": "display_data"
    }
   ],
   "source": [
    "plt.figure(figsize=(15, 5))\n",
    "plt.plot(avg_check.index, avg_check['rel_dif'])\n",
    "plt.title('График относительного изменения среднего чека группы B к группе A')\n",
    "plt.grid(True)\n",
    "plt.xlim(left=avg_check.index[0])\n",
    "plt.axhline(y=0, color='gray', linestyle='--')"
   ]
  },
  {
   "cell_type": "markdown",
   "metadata": {},
   "source": [
    "----\n",
    "ℹ️ На графике видно, что на первой неделе средний чек в группе B относительно группы A рос, затем пошло снижение. 19.08 произошел резкий скачок из-за чего график оказался в положительной зоне, при этом все-таки видна тенденция к снижению. И если бы в данных не появился этот крупный заказ, то линия графика ушла бы в отрицательную зону.\n",
    "\n",
    "Заметен провал 05.08, когда средний чек по группе B заметно снизился, провал 13.08, когда заметно вырос средний чек по группе A"
   ]
  },
  {
   "cell_type": "markdown",
   "metadata": {},
   "source": [
    "<a id='4'><h2>4. График кумулятивной конверсии по группам</h2></a>\n",
    "<a href='#table_of_contents'>В начало</a>\n",
    "\n",
    "Рассчитаем конверсию как долю количества заказов в общем количестве визитов."
   ]
  },
  {
   "cell_type": "markdown",
   "metadata": {},
   "source": [
    "$$conversion = \\frac{orders}{visitors}*100$$"
   ]
  },
  {
   "cell_type": "code",
   "execution_count": 27,
   "metadata": {},
   "outputs": [],
   "source": [
    "cum_visitors = visitors.pivot_table(index='date', columns='group', values='visitors', aggfunc='sum').cumsum()\n",
    "#cum_visitors.head(3)"
   ]
  },
  {
   "cell_type": "code",
   "execution_count": 28,
   "metadata": {},
   "outputs": [],
   "source": [
    "conversion = cum_orders/cum_visitors\n",
    "#conversion.head()"
   ]
  },
  {
   "cell_type": "code",
   "execution_count": 29,
   "metadata": {},
   "outputs": [
    {
     "data": {
      "image/png": "[encoded data removed]",
      "text/plain": [
       "<Figure size 1080x360 with 1 Axes>"
      ]
     },
     "metadata": {
      "needs_background": "light"
     },
     "output_type": "display_data"
    }
   ],
   "source": [
    "plt.figure(figsize=(15, 5))\n",
    "plt.plot(conversion.index, conversion['A'], label='A')\n",
    "plt.plot(conversion.index, conversion['B'], label='B')\n",
    "plt.legend()\n",
    "plt.title('График кумулятивной конверсии по группам')\n",
    "plt.grid(True)\n",
    "plt.xlabel('Дата')\n",
    "plt.ylabel('Сумма')\n",
    "plt.xlim(left=conversion.index[0])\n",
    "plt.ylim(bottom=0.025)\n",
    "plt.axhline(y=0.032, color='gray', linestyle='--')\n",
    "plt.show()"
   ]
  },
  {
   "cell_type": "markdown",
   "metadata": {},
   "source": [
    "----\n",
    "ℹ️ В группе A заметен выраженный скачок 03.08, после чего конверсия снизилась и стабилизировалась.\n",
    "\n",
    "В группе B есть сильный скачок конверсии 02.08 вверх и падение 04.08, затем конверсия группы вырвалась вперед и стабилизировалась"
   ]
  },
  {
   "cell_type": "markdown",
   "metadata": {},
   "source": [
    "<a id='5'><h2>5. График относительного изменения кумулятивной конверсии группы B к группе A</h2></a>\n",
    "<a href='#table_of_contents'>В начало</a>\n",
    "\n",
    "Рассчитаем относительное различие для конверсии. Если значение \"-\" значение ниже в группе B, если \"+\" - значение ниже в группе A."
   ]
  },
  {
   "cell_type": "markdown",
   "metadata": {},
   "source": [
    "$$relative\\_difference\\_conversion = \\frac{conversion\\_B}{conversion\\_A} - 1$$"
   ]
  },
  {
   "cell_type": "code",
   "execution_count": 30,
   "metadata": {},
   "outputs": [],
   "source": [
    "conversion['rel_dif'] = conversion['B']/conversion['A'] - 1"
   ]
  },
  {
   "cell_type": "code",
   "execution_count": 31,
   "metadata": {},
   "outputs": [
    {
     "data": {
      "image/png": "[encoded data removed]",
      "text/plain": [
       "<Figure size 1080x360 with 1 Axes>"
      ]
     },
     "metadata": {
      "needs_background": "light"
     },
     "output_type": "display_data"
    }
   ],
   "source": [
    "plt.figure(figsize=(15, 5))\n",
    "plt.plot(conversion.index, conversion['rel_dif'])\n",
    "plt.title('График относительного изменения конверсии группы B к группе A');\n",
    "plt.grid(True)\n",
    "plt.xlim(left=conversion.index[0])\n",
    "plt.axhline(y=0, color='gray', linestyle='--')\n",
    "plt.show()"
   ]
  },
  {
   "cell_type": "markdown",
   "metadata": {},
   "source": [
    "----\n",
    "ℹ️ На графике относительного изменения конверсии видно, что после резкого скачка 02.08, конверсия группы B вырвалась вперед, затем 03.08 произошел резкий спад. После чего, примерно в течение недели шел активный рост, затем конверсия стабилизировалась.\n",
    "\n",
    "----"
   ]
  },
  {
   "cell_type": "code",
   "execution_count": 32,
   "metadata": {},
   "outputs": [
    {
     "data": {
      "image/png": "[encoded data removed]",
      "text/plain": [
       "<Figure size 1224x216 with 1 Axes>"
      ]
     },
     "metadata": {
      "needs_background": "light"
     },
     "output_type": "display_data"
    }
   ],
   "source": [
    "orders.groupby(by=['date', 'group']).agg({'buyer_id': 'nunique'}).\\\n",
    "pivot_table(index='date', columns='group', values='buyer_id', aggfunc='sum').\\\n",
    "plot.line(figsize=(17, 3), grid=True, title='Количество покупателей');"
   ]
  },
  {
   "cell_type": "code",
   "execution_count": 33,
   "metadata": {},
   "outputs": [
    {
     "data": {
      "image/png": "[encoded data removed]",
      "text/plain": [
       "<Figure size 1224x216 with 1 Axes>"
      ]
     },
     "metadata": {
      "needs_background": "light"
     },
     "output_type": "display_data"
    }
   ],
   "source": [
    "visitors.pivot_table(index='date', columns='group', values='visitors', aggfunc='sum').\\\n",
    "plot.line(figsize=(17, 3), grid=True, title='Количество посетителей');"
   ]
  },
  {
   "cell_type": "markdown",
   "metadata": {},
   "source": [
    "<a id='6'><h2>6. Точечный график количества заказов по пользователям</h2></a>\n",
    "<a href='#table_of_contents'>В начало</a>"
   ]
  },
  {
   "cell_type": "markdown",
   "metadata": {},
   "source": [
    "Сколько заказов приходится на одного покупателя."
   ]
  },
  {
   "cell_type": "code",
   "execution_count": 34,
   "metadata": {},
   "outputs": [],
   "source": [
    "ordersByUsers = orders.groupby(['buyer_id'])\\\n",
    ".agg({'transaction_id': 'nunique'})\\"
   ]
  },
  {
   "cell_type": "code",
   "execution_count": 35,
   "metadata": {},
   "outputs": [],
   "source": [
    "#ordersByUsers.sort_values(by='transaction_id', ascending=False).head()"
   ]
  },
  {
   "cell_type": "code",
   "execution_count": 36,
   "metadata": {},
   "outputs": [
    {
     "data": {
      "image/png": "[encoded data removed]",
      "text/plain": [
       "<Figure size 1224x360 with 1 Axes>"
      ]
     },
     "metadata": {
      "needs_background": "light"
     },
     "output_type": "display_data"
    }
   ],
   "source": [
    "plt.figure(figsize=(17, 5))\n",
    "plt.title('Точечный график количества заказов на одного пользователя')\n",
    "plt.scatter(pd.Series(range(0, len(ordersByUsers))), \\\n",
    "            ordersByUsers['transaction_id']);"
   ]
  },
  {
   "cell_type": "markdown",
   "metadata": {},
   "source": [
    "----\n",
    "ℹ️ Основная часть покупала 1-5 раз. Рассчитаем выборочные перцентили количества заказов на одного пользователя."
   ]
  },
  {
   "cell_type": "markdown",
   "metadata": {},
   "source": [
    "<a id='7'><h2>7. Посчет 95-й и 99-й перцентиля количества заказов на пользователя. Выбор границы для определения аномальных пользователей</h2></a>\n",
    "<a href='#table_of_contents'>В начало</a>"
   ]
  },
  {
   "cell_type": "code",
   "execution_count": 37,
   "metadata": {},
   "outputs": [
    {
     "data": {
      "text/plain": [
       "array([1., 2., 4.])"
      ]
     },
     "execution_count": 37,
     "metadata": {},
     "output_type": "execute_result"
    }
   ],
   "source": [
    "np.percentile(ordersByUsers['transaction_id'], [90, 95, 99])"
   ]
  },
  {
   "cell_type": "markdown",
   "metadata": {},
   "source": [
    "----\n",
    "ℹ️ Не более 5% посетителей оформляло больше 2 заказов, не более 1% оформляло больше 4 заказов. Можно выбрать 2 как верхнюю границу количества заказов."
   ]
  },
  {
   "cell_type": "markdown",
   "metadata": {},
   "source": [
    "<a id='8'><h2>8. Точечный график стоимостей заказов</h2></a>\n",
    "<a href='#table_of_contents'>В начало</a>"
   ]
  },
  {
   "cell_type": "code",
   "execution_count": 38,
   "metadata": {},
   "outputs": [
    {
     "data": {
      "image/png": "[encoded data removed]",
      "text/plain": [
       "<Figure size 1224x504 with 1 Axes>"
      ]
     },
     "metadata": {
      "needs_background": "light"
     },
     "output_type": "display_data"
    }
   ],
   "source": [
    "plt.figure(figsize=(17, 7))\n",
    "plt.title('Точечный график стоимостей заказов')\n",
    "plt.scatter(pd.Series(range(0, len(orders))), \\\n",
    "            orders['revenue']);\n",
    "plt.grid()"
   ]
  },
  {
   "cell_type": "code",
   "execution_count": 39,
   "metadata": {},
   "outputs": [
    {
     "data": {
      "image/png": "[encoded data removed]",
      "text/plain": [
       "<Figure size 504x504 with 1 Axes>"
      ]
     },
     "metadata": {
      "needs_background": "light"
     },
     "output_type": "display_data"
    }
   ],
   "source": [
    "plt.figure(figsize=(7, 7))\n",
    "plt.title('Точечный график стоимостей заказов')\n",
    "plt.boxplot(orders['revenue']);\n",
    "plt.grid()"
   ]
  },
  {
   "cell_type": "markdown",
   "metadata": {},
   "source": [
    "----\n",
    "ℹ️ Для подавляющего большенства пользователй сумма заказов составила менее 100 тыс. Рассчитаем выборочные перцентили стоимостей заказов."
   ]
  },
  {
   "cell_type": "markdown",
   "metadata": {},
   "source": [
    "<a id='9'><h2>9. Посчет 95-й и 99-й перцентиля стоимости заказов. Выбор границы для определения аномальных пользователей</h2></a>\n",
    "<a href='#table_of_contents'>В начало</a>"
   ]
  },
  {
   "cell_type": "code",
   "execution_count": 40,
   "metadata": {},
   "outputs": [
    {
     "data": {
      "text/plain": [
       "array([18168. , 28000. , 58233.2])"
      ]
     },
     "execution_count": 40,
     "metadata": {},
     "output_type": "execute_result"
    }
   ],
   "source": [
    "np.percentile(orders['revenue'], [90, 95, 99])"
   ]
  },
  {
   "cell_type": "markdown",
   "metadata": {},
   "source": [
    "----\n",
    "ℹ️ Не более 5% посетителей делают заказы на сумму более 28 тыс., не более 1% делают заказы на сумму более 59 тыс. Можно выбрать 28 тыс. как нижнюю границу сумм заказов."
   ]
  },
  {
   "cell_type": "markdown",
   "metadata": {},
   "source": [
    "<a id='10'><h2>10. Подсчет статистической значимости различий в конверсии между группами по «сырым» данным</h2></a>\n",
    "<a href='#table_of_contents'>В начало</a>"
   ]
  },
  {
   "cell_type": "markdown",
   "metadata": {},
   "source": [
    "- Подготовим таблицу, содежращую данные по группам A и B: количество заказов в день, выручка в день, куммулятивное количество заказов на день, куммулятивная сумма заказов на день."
   ]
  },
  {
   "cell_type": "code",
   "execution_count": 41,
   "metadata": {},
   "outputs": [],
   "source": [
    "orders_group = orders.groupby(['date', 'group']).agg({'transaction_id': 'nunique', 'revenue': 'sum'})"
   ]
  },
  {
   "cell_type": "code",
   "execution_count": 42,
   "metadata": {},
   "outputs": [],
   "source": [
    "# количество заказов в день\n",
    "orders_per_date = orders_group.pivot_table(index='date', columns='group', values='transaction_id', aggfunc='sum')\n",
    "#orders_per_date.head(3)"
   ]
  },
  {
   "cell_type": "code",
   "execution_count": 43,
   "metadata": {},
   "outputs": [],
   "source": [
    "# выручка в день\n",
    "revenue_per_date = orders_group.pivot_table(index='date', columns='group', values='revenue', aggfunc='sum')\n",
    "#revenue_per_date.head(3)"
   ]
  },
  {
   "cell_type": "code",
   "execution_count": 44,
   "metadata": {},
   "outputs": [],
   "source": [
    "# количество посетителей в день\n",
    "visitors_per_date = visitors.pivot_table(index='date', columns='group', values='visitors', aggfunc='sum')\n",
    "#visitors_per_date.head(3)"
   ]
  },
  {
   "cell_type": "code",
   "execution_count": 45,
   "metadata": {},
   "outputs": [
    {
     "name": "stdout",
     "output_type": "stream",
     "text": [
      "            A_orders_per_date  B_orders_per_date  A_cum_orders  B_cum_orders  \\\n",
      "date                                                                           \n",
      "2019-08-29                 22                 20           534           596   \n",
      "2019-08-30                 11                 24           545           620   \n",
      "2019-08-31                 12                 20           557           640   \n",
      "\n",
      "            A_revenue_per_date  B_revenue_per_date  A_cum_revenue  \\\n",
      "date                                                                \n",
      "2019-08-29              320690              231130        3936510   \n",
      "2019-08-30               86460              215233        4022970   \n",
      "2019-08-31               61833              133129        4084803   \n",
      "\n",
      "            B_cum_revenue  A_visitors_per_date  B_visitors_per_date  \\\n",
      "date                                                                  \n",
      "2019-08-29        5559398                  577                  531   \n",
      "2019-08-30        5774631                  490                  490   \n",
      "2019-08-31        5907760                  699                  718   \n",
      "\n",
      "            A_cum_visitors  B_cum_visitors  \n",
      "date                                        \n",
      "2019-08-29           17547           17708  \n",
      "2019-08-30           18037           18198  \n",
      "2019-08-31           18736           18916  \n"
     ]
    }
   ],
   "source": [
    "data = orders_per_date\\\n",
    ".merge(cum_orders, how='left', left_index=True, right_index=True, \n",
    "       suffixes=('_orders_per_date', '_cum_orders'))\\\n",
    ".merge(revenue_per_date\\\n",
    "       .merge(cum_revenue, how='left', left_index=True, right_index=True, \n",
    "           suffixes=('_revenue_per_date', '_cum_revenue')), \n",
    "       how='left', left_index=True, right_index=True)\\\n",
    ".merge(visitors_per_date\\\n",
    "       .merge(cum_visitors, how='left', left_index=True, right_index=True, \n",
    "           suffixes=('_visitors_per_date', '_cum_visitors')), \n",
    "       how='left', left_index=True, right_index=True)\n",
    "\n",
    "print(data.tail(3))"
   ]
  },
  {
   "cell_type": "markdown",
   "metadata": {},
   "source": [
    "----"
   ]
  },
  {
   "cell_type": "markdown",
   "metadata": {},
   "source": [
    "### Подготовим выборки для проверки различий между группами A и B."
   ]
  },
  {
   "cell_type": "code",
   "execution_count": 46,
   "metadata": {},
   "outputs": [],
   "source": [
    "# таблица содержит id посетителей, которые сделали хотя бы один заказ\n",
    "orders_by_users = orders.groupby(['group', 'buyer_id']).agg({'transaction_id': 'nunique'})\n",
    "orders_by_users.columns = ['orders']\n",
    "orders_by_users = orders_by_users.reset_index()\n",
    "#orders_by_users.shape"
   ]
  },
  {
   "cell_type": "code",
   "execution_count": 47,
   "metadata": {},
   "outputs": [],
   "source": [
    "sampleA = orders_by_users[orders_by_users['group'] == 'A']['orders']"
   ]
  },
  {
   "cell_type": "code",
   "execution_count": 48,
   "metadata": {
    "scrolled": true
   },
   "outputs": [],
   "source": [
    "sampleB = orders_by_users[orders_by_users['group'] == 'B']['orders']"
   ]
  },
  {
   "cell_type": "markdown",
   "metadata": {},
   "source": [
    "### Проверим выборки на нормальность при помощи критерия Шапиро-Уилка\n",
    "\n",
    "Чтобы выбрать метод для проверки раличий между выборками, проверим соблюдается ли в выборках условие о нормальном распределении значений.\n",
    "\n",
    "Сделаем это при при помощи критерия Шапиро-Уилка.\n",
    "\n",
    "Установим p-value = 0,05."
   ]
  },
  {
   "cell_type": "code",
   "execution_count": 49,
   "metadata": {},
   "outputs": [],
   "source": [
    "def shapiro(sample):\n",
    "    p_val = 0.05\n",
    "    result = stats.shapiro(sample)[1]\n",
    "\n",
    "    if result < p_val:\n",
    "        return \"Отвергаем нулевую гипотезу: распределение не нормально\"\n",
    "    else:\n",
    "        return \"Не получилось отвергнуть нулевую гипотезу, всё нормально\""
   ]
  },
  {
   "cell_type": "code",
   "execution_count": 50,
   "metadata": {},
   "outputs": [
    {
     "name": "stdout",
     "output_type": "stream",
     "text": [
      "Для групппы A\n",
      "Отвергаем нулевую гипотезу: распределение не нормально\n",
      "Для групппы B\n",
      "Отвергаем нулевую гипотезу: распределение не нормально\n"
     ]
    }
   ],
   "source": [
    "\"\"\"\n",
    "Сформулируем гипотезы:\n",
    "H0 - нулевая гипотеза состоит в нормальном распределении значений в выборке.\n",
    "H1 - в выборке не выполняется требование о нормальном распрееделении значений.\n",
    "\"\"\"\n",
    "\n",
    "print(f'Для групппы A\\n{shapiro(sampleA)}')\n",
    "print(f'Для групппы B\\n{shapiro(sampleB)}')"
   ]
  },
  {
   "cell_type": "markdown",
   "metadata": {},
   "source": [
    "ℹ️ Мы видим, что в выборке не соблюдается условие нормального распределения, поэтому параметрический тест t-Стьюдента в этом случае применять некорректно. Для оценки различий между выборками A и B применим непараметрический критерий Манна-Уитни."
   ]
  },
  {
   "cell_type": "markdown",
   "metadata": {},
   "source": [
    "----\n",
    "### Применим критерий Манна-Уитни для оценки различий между выборкой по группе A и по группе B. "
   ]
  },
  {
   "cell_type": "markdown",
   "metadata": {},
   "source": [
    "- Добавим в выборку посетителей, которые не сделали заказ, для них количество заказов 0. Расчитаем количество таких посетителей как общее количество посетителей минус количество посетителей, сделавших заказ."
   ]
  },
  {
   "cell_type": "code",
   "execution_count": 51,
   "metadata": {},
   "outputs": [
    {
     "data": {
      "text/plain": [
       "(18736,)"
      ]
     },
     "execution_count": 51,
     "metadata": {},
     "output_type": "execute_result"
    }
   ],
   "source": [
    "sampleA = pd.concat([sampleA, \n",
    "                    pd.Series(0, index=np.arange((data['A_visitors_per_date'].sum() - sampleA.shape[0])), \n",
    "                              name='orders')], \n",
    "                    axis=0)\n",
    "sampleA.shape"
   ]
  },
  {
   "cell_type": "code",
   "execution_count": 52,
   "metadata": {},
   "outputs": [
    {
     "data": {
      "text/plain": [
       "(18916,)"
      ]
     },
     "execution_count": 52,
     "metadata": {},
     "output_type": "execute_result"
    }
   ],
   "source": [
    "sampleB = pd.concat([sampleB, \n",
    "                    pd.Series(0, index=np.arange((data['B_visitors_per_date'].sum() - sampleB.shape[0])), \n",
    "                              name='orders')], \n",
    "                    axis=0)\n",
    "sampleB.shape"
   ]
  },
  {
   "cell_type": "markdown",
   "metadata": {},
   "source": [
    "Применим критерий Манна-Уитни для оценки различия конверсии между группами по \"сырым\" данным.\n",
    "\n",
    "Сформулируем гипотезы:\n",
    "- H0 - конверсии в группе A и B одинаковые.\n",
    "- H1 - конверсии в группе A и B не одинаковые.\n",
    "\n",
    "Критерий значимости p-value 0,05. Если p-value в тесте Манна-Уитни будет меньше 0,05 - это будет основанием, для того чтобы отвергнуть H0 и принять H1."
   ]
  },
  {
   "cell_type": "code",
   "execution_count": 53,
   "metadata": {
    "scrolled": true
   },
   "outputs": [
    {
     "data": {
      "text/plain": [
       "0.008"
      ]
     },
     "execution_count": 53,
     "metadata": {},
     "output_type": "execute_result"
    }
   ],
   "source": [
    "mannwhitneyu = stats.mannwhitneyu(sampleA, sampleB)[1]\n",
    "mannwhitneyu.round(3)"
   ]
  },
  {
   "cell_type": "markdown",
   "metadata": {},
   "source": [
    "ℹ️ Значение p-value не превышает 0.05 - это говорит о том, что гипотезу о том, что ститистически значимых различий конверсий между группами нет, мы отвергаем. По сырым данным различия между группами есть."
   ]
  },
  {
   "cell_type": "markdown",
   "metadata": {},
   "source": [
    "### Найдем относительное различие конверсии между группами A и B.\n",
    "\n",
    "Конверсия рассчитывается как количество заказов деленое на количество посетителей. Количество заказов - это значение столбца `orders`, количество посетителей - количество строк в выборке. Конверсию найдем как среднее по столбцу `orders`."
   ]
  },
  {
   "cell_type": "code",
   "execution_count": 54,
   "metadata": {
    "scrolled": true
   },
   "outputs": [
    {
     "data": {
      "text/plain": [
       "0.138"
      ]
     },
     "execution_count": 54,
     "metadata": {},
     "output_type": "execute_result"
    }
   ],
   "source": [
    "rel_def = sampleB.mean()/sampleA.mean() - 1\n",
    "rel_def.round(3)"
   ]
  },
  {
   "cell_type": "markdown",
   "metadata": {},
   "source": [
    "ℹ️ Относительный выигрыш группы B составил 13,8%."
   ]
  },
  {
   "cell_type": "code",
   "execution_count": 55,
   "metadata": {},
   "outputs": [],
   "source": [
    "summary = pd.DataFrame([mannwhitneyu, rel_def], \n",
    "             index=['mannwhitneyu', 'rel_def'], \n",
    "             columns=['original_conversion'])"
   ]
  },
  {
   "cell_type": "code",
   "execution_count": 56,
   "metadata": {},
   "outputs": [
    {
     "data": {
      "text/html": [
       "<div>\n",
       "<style scoped>\n",
       "    .dataframe tbody tr th:only-of-type {\n",
       "        vertical-align: middle;\n",
       "    }\n",
       "\n",
       "    .dataframe tbody tr th {\n",
       "        vertical-align: top;\n",
       "    }\n",
       "\n",
       "    .dataframe thead th {\n",
       "        text-align: right;\n",
       "    }\n",
       "</style>\n",
       "<table border=\"1\" class=\"dataframe\">\n",
       "  <thead>\n",
       "    <tr style=\"text-align: right;\">\n",
       "      <th></th>\n",
       "      <th>original_conversion</th>\n",
       "    </tr>\n",
       "  </thead>\n",
       "  <tbody>\n",
       "    <tr>\n",
       "      <td>mannwhitneyu</td>\n",
       "      <td>0.008396</td>\n",
       "    </tr>\n",
       "    <tr>\n",
       "      <td>rel_def</td>\n",
       "      <td>0.138079</td>\n",
       "    </tr>\n",
       "  </tbody>\n",
       "</table>\n",
       "</div>"
      ],
      "text/plain": [
       "              original_conversion\n",
       "mannwhitneyu             0.008396\n",
       "rel_def                  0.138079"
      ]
     },
     "execution_count": 56,
     "metadata": {},
     "output_type": "execute_result"
    }
   ],
   "source": [
    "summary"
   ]
  },
  {
   "cell_type": "markdown",
   "metadata": {},
   "source": [
    "<a id='11'><h2>11. Подсчет статистической значимости различий в конверсии между группами по «очищенным» данным</h2></a>"
   ]
  },
  {
   "cell_type": "markdown",
   "metadata": {},
   "source": [
    "### Очистим данные от аномальных заказов. \n",
    "\n",
    "Примем за аномальных пользователей тех, кто:\n",
    "1. совершил более 2 заказов и \n",
    "1. совершил заказы дороже 28 тыс."
   ]
  },
  {
   "cell_type": "code",
   "execution_count": 57,
   "metadata": {},
   "outputs": [],
   "source": [
    "# пользователи, совершившие заказы дороже 28 тыс.\n",
    "usersWithExpensiveOrders = orders[orders['revenue'] >= 28000]['buyer_id']\n",
    "\n",
    "# пользователи, совершившие заказы больше 2 раз\n",
    "usersWithManyOrders = orders_by_users[orders_by_users['orders'] >= 2]['buyer_id']\n",
    "\n",
    "# \"аномальные\" пользователи\n",
    "abnormal_users = pd.concat([usersWithExpensiveOrders, usersWithManyOrders], \n",
    "                           axis=0).drop_duplicates()\n",
    "#abnormal_users.head()"
   ]
  },
  {
   "cell_type": "code",
   "execution_count": 58,
   "metadata": {
    "scrolled": true
   },
   "outputs": [
    {
     "data": {
      "text/plain": [
       "111"
      ]
     },
     "execution_count": 58,
     "metadata": {},
     "output_type": "execute_result"
    }
   ],
   "source": [
    "abnormal_users.shape[0]"
   ]
  },
  {
   "cell_type": "code",
   "execution_count": 59,
   "metadata": {
    "scrolled": true
   },
   "outputs": [
    {
     "data": {
      "text/plain": [
       "0    4256040402\n",
       "1    2947100995\n",
       "2     787824685\n",
       "3    3288820196\n",
       "4    2254586615\n",
       "Name: buyer_id, dtype: int64"
      ]
     },
     "execution_count": 59,
     "metadata": {},
     "output_type": "execute_result"
    }
   ],
   "source": [
    "abnormal_users = abnormal_users.reset_index(drop=True)\n",
    "abnormal_users.head()"
   ]
  },
  {
   "cell_type": "markdown",
   "metadata": {},
   "source": [
    "- Удалим заказы этих покупателей из выборки."
   ]
  },
  {
   "cell_type": "code",
   "execution_count": 60,
   "metadata": {},
   "outputs": [
    {
     "data": {
      "text/html": [
       "<div>\n",
       "<style scoped>\n",
       "    .dataframe tbody tr th:only-of-type {\n",
       "        vertical-align: middle;\n",
       "    }\n",
       "\n",
       "    .dataframe tbody tr th {\n",
       "        vertical-align: top;\n",
       "    }\n",
       "\n",
       "    .dataframe thead th {\n",
       "        text-align: right;\n",
       "    }\n",
       "</style>\n",
       "<table border=\"1\" class=\"dataframe\">\n",
       "  <thead>\n",
       "    <tr style=\"text-align: right;\">\n",
       "      <th></th>\n",
       "      <th>group</th>\n",
       "      <th>buyer_id</th>\n",
       "      <th>orders</th>\n",
       "    </tr>\n",
       "  </thead>\n",
       "  <tbody>\n",
       "    <tr>\n",
       "      <td>0</td>\n",
       "      <td>A</td>\n",
       "      <td>8300375</td>\n",
       "      <td>1</td>\n",
       "    </tr>\n",
       "    <tr>\n",
       "      <td>1</td>\n",
       "      <td>A</td>\n",
       "      <td>11685486</td>\n",
       "      <td>1</td>\n",
       "    </tr>\n",
       "    <tr>\n",
       "      <td>2</td>\n",
       "      <td>A</td>\n",
       "      <td>54447517</td>\n",
       "      <td>1</td>\n",
       "    </tr>\n",
       "    <tr>\n",
       "      <td>3</td>\n",
       "      <td>A</td>\n",
       "      <td>66685450</td>\n",
       "      <td>1</td>\n",
       "    </tr>\n",
       "    <tr>\n",
       "      <td>4</td>\n",
       "      <td>A</td>\n",
       "      <td>78758296</td>\n",
       "      <td>1</td>\n",
       "    </tr>\n",
       "  </tbody>\n",
       "</table>\n",
       "</div>"
      ],
      "text/plain": [
       "  group  buyer_id  orders\n",
       "0     A   8300375       1\n",
       "1     A  11685486       1\n",
       "2     A  54447517       1\n",
       "3     A  66685450       1\n",
       "4     A  78758296       1"
      ]
     },
     "execution_count": 60,
     "metadata": {},
     "output_type": "execute_result"
    }
   ],
   "source": [
    "filtred_orders_by_users = orders_by_users[np.logical_not(orders_by_users['buyer_id'].isin(abnormal_users))]\n",
    "filtred_orders_by_users.head()"
   ]
  },
  {
   "cell_type": "code",
   "execution_count": 61,
   "metadata": {
    "scrolled": true
   },
   "outputs": [],
   "source": [
    "# abnormal_users.append(pd.Series([8300375]), ignore_index=True)"
   ]
  },
  {
   "cell_type": "code",
   "execution_count": 62,
   "metadata": {},
   "outputs": [
    {
     "data": {
      "text/plain": [
       "'A_buyer_id = filtred_orders_by_users.query(\\'group == \"A\"\\')[\\'buyer_id\\']\\nB_buyer_id = filtred_orders_by_users.query(\\'group == \"B\"\\')[\\'buyer_id\\']\\nintersection = list(set(A_buyer_id) & set(B_buyer_id))\\nintersection'"
      ]
     },
     "execution_count": 62,
     "metadata": {},
     "output_type": "execute_result"
    }
   ],
   "source": [
    "# Проверим, что очищенная выборка не содержит пересекающихся пользователей.\n",
    "\"\"\"A_buyer_id = filtred_orders_by_users.query('group == \"A\"')['buyer_id']\n",
    "B_buyer_id = filtred_orders_by_users.query('group == \"B\"')['buyer_id']\n",
    "intersection = list(set(A_buyer_id) & set(B_buyer_id))\n",
    "intersection\"\"\""
   ]
  },
  {
   "cell_type": "code",
   "execution_count": 63,
   "metadata": {},
   "outputs": [],
   "source": [
    "# A_buyer_id.sub(B_buyer_id)."
   ]
  },
  {
   "cell_type": "code",
   "execution_count": 64,
   "metadata": {
    "scrolled": true
   },
   "outputs": [],
   "source": [
    "# stats.shapiro(filtred_orders_by_users.query('buyer_id in @intersection')['orders'])"
   ]
  },
  {
   "cell_type": "markdown",
   "metadata": {},
   "source": [
    "- Добавим в выборку посетителей, которые не сделали заказ, для них количество заказов 0. Расчитаем количество таких посетителей как общее количество посетителей минус количество посетителей, сделавших заказ."
   ]
  },
  {
   "cell_type": "code",
   "execution_count": 65,
   "metadata": {},
   "outputs": [],
   "source": [
    "filtred_sampleA = filtred_orders_by_users[filtred_orders_by_users['group'] == 'A']['orders']\n",
    "filtred_sampleA = pd.concat([filtred_sampleA, \n",
    "                             pd.Series(0, index=np.arange((data['A_visitors_per_date'].sum() - filtred_sampleA.shape[0])), \n",
    "                                       name='orders')], \n",
    "                            axis=0)\n",
    "#filtred_sampleA.shape"
   ]
  },
  {
   "cell_type": "code",
   "execution_count": 66,
   "metadata": {},
   "outputs": [],
   "source": [
    "filtred_sampleB = filtred_orders_by_users[filtred_orders_by_users['group'] == 'B']['orders']\n",
    "filtred_sampleB = pd.concat([filtred_sampleB, \n",
    "                             pd.Series(0, index=np.arange((data['B_visitors_per_date'].sum() - filtred_sampleB.shape[0])), \n",
    "                                       name='orders')], \n",
    "                            axis=0)\n",
    "#filtred_sampleB.shape"
   ]
  },
  {
   "cell_type": "markdown",
   "metadata": {},
   "source": [
    "### Применим критерий Манна-Уитни для оценки различий между выборкой по группе A и по группе B. \n",
    "\n",
    "Сформулируем гипотезы:\n",
    "- H0 - конверсии в группе A и B одинаковые.\n",
    "- H1 - конверсии в группе A и B не одинаковые.\n",
    "\n",
    "Критерий значимости p-value 0,05. Если p-value в тесте Манна-Уитни будет меньше 0,05 - это будет основанием, для того чтобы отвергнуть H0 и принять H1."
   ]
  },
  {
   "cell_type": "code",
   "execution_count": 67,
   "metadata": {},
   "outputs": [
    {
     "data": {
      "text/plain": [
       "0.008"
      ]
     },
     "execution_count": 67,
     "metadata": {},
     "output_type": "execute_result"
    }
   ],
   "source": [
    "mannwhitneyu = stats.mannwhitneyu(filtred_sampleA, filtred_sampleB)[1]\n",
    "mannwhitneyu.round(3)"
   ]
  },
  {
   "cell_type": "markdown",
   "metadata": {},
   "source": [
    "ℹ️ Значение p-value меньше 0.05 - это говорит о том, что у нас есть основания отвергнуть гипотезу о то, что ститистически значимых различий конверсий между группами нет. В отфильтрованных данных различия между группами присутствуют."
   ]
  },
  {
   "cell_type": "markdown",
   "metadata": {},
   "source": [
    "----\n",
    "- Найдем относительное различие конверсии между группами A и B.\n",
    "\n",
    "Конверсия рассчитывается как количество заказов деленое на количество посетителей. Количество заказов - это значение столбца `orders`, количество посетителей - количество строк в выборке. Конверсию найдем как среднее по столбцу `orders`."
   ]
  },
  {
   "cell_type": "code",
   "execution_count": 68,
   "metadata": {},
   "outputs": [
    {
     "data": {
      "text/plain": [
       "0.168"
      ]
     },
     "execution_count": 68,
     "metadata": {},
     "output_type": "execute_result"
    }
   ],
   "source": [
    "rel_def = filtred_sampleB.mean()/filtred_sampleA.mean() - 1\n",
    "rel_def.round(3)"
   ]
  },
  {
   "cell_type": "markdown",
   "metadata": {},
   "source": [
    "ℹ️ Конверсия по группе B выше, чем по группе A на 16,8%."
   ]
  },
  {
   "cell_type": "code",
   "execution_count": 69,
   "metadata": {},
   "outputs": [],
   "source": [
    "summary['filtred_conversion'] = [mannwhitneyu, rel_def]"
   ]
  },
  {
   "cell_type": "code",
   "execution_count": 70,
   "metadata": {},
   "outputs": [
    {
     "data": {
      "text/html": [
       "<div>\n",
       "<style scoped>\n",
       "    .dataframe tbody tr th:only-of-type {\n",
       "        vertical-align: middle;\n",
       "    }\n",
       "\n",
       "    .dataframe tbody tr th {\n",
       "        vertical-align: top;\n",
       "    }\n",
       "\n",
       "    .dataframe thead th {\n",
       "        text-align: right;\n",
       "    }\n",
       "</style>\n",
       "<table border=\"1\" class=\"dataframe\">\n",
       "  <thead>\n",
       "    <tr style=\"text-align: right;\">\n",
       "      <th></th>\n",
       "      <th>original_conversion</th>\n",
       "      <th>filtred_conversion</th>\n",
       "    </tr>\n",
       "  </thead>\n",
       "  <tbody>\n",
       "    <tr>\n",
       "      <td>mannwhitneyu</td>\n",
       "      <td>0.008396</td>\n",
       "      <td>0.007890</td>\n",
       "    </tr>\n",
       "    <tr>\n",
       "      <td>rel_def</td>\n",
       "      <td>0.138079</td>\n",
       "      <td>0.167681</td>\n",
       "    </tr>\n",
       "  </tbody>\n",
       "</table>\n",
       "</div>"
      ],
      "text/plain": [
       "              original_conversion  filtred_conversion\n",
       "mannwhitneyu             0.008396            0.007890\n",
       "rel_def                  0.138079            0.167681"
      ]
     },
     "execution_count": 70,
     "metadata": {},
     "output_type": "execute_result"
    }
   ],
   "source": [
    "summary"
   ]
  },
  {
   "cell_type": "markdown",
   "metadata": {},
   "source": [
    "<a id='12'><h2>12. Подсчет статистической значимости различий в среднем чеке заказа между группами по «сырым» данным</h2></a>\n",
    "<a href='#table_of_contents'>В начало</a>"
   ]
  },
  {
   "cell_type": "code",
   "execution_count": 71,
   "metadata": {},
   "outputs": [],
   "source": [
    "sampleA = orders[orders['group'] == 'A']['revenue']\n",
    "sampleB = orders[orders['group'] == 'B']['revenue']"
   ]
  },
  {
   "cell_type": "markdown",
   "metadata": {},
   "source": [
    "### Применим критерий Манна-Уитни для оценки различий между выборкой по группе A и по группе B. \n",
    "Сформулируем гипотезы:\n",
    "- H0 - средний чек в группе A и B одинаковый.\n",
    "- H1 - средний чек в группе A и B не одинаковый.\n",
    "\n",
    "Критерий значимости p-value 0,05. Если p-value в тесте Манна-Уитни будет меньше 0,05 - это будет основанием, для того чтобы отвергнуть H0 и принять H1."
   ]
  },
  {
   "cell_type": "code",
   "execution_count": 72,
   "metadata": {},
   "outputs": [],
   "source": [
    "alpha = 0.05\n",
    "test = lambda p_value: 'Отклоняем нулевую гипотезу' if (p_value < alpha) else 'Не получилось отклонить нулевую гипотезу'"
   ]
  },
  {
   "cell_type": "code",
   "execution_count": 73,
   "metadata": {
    "scrolled": true
   },
   "outputs": [
    {
     "data": {
      "text/plain": [
       "'p-value=0.365 - Не получилось отклонить нулевую гипотезу'"
      ]
     },
     "execution_count": 73,
     "metadata": {},
     "output_type": "execute_result"
    }
   ],
   "source": [
    "mannwhitneyu = stats.mannwhitneyu(sampleA, sampleB)[1]\n",
    "f\"p-value={mannwhitneyu.round(3)} - {test(mannwhitneyu)}\""
   ]
  },
  {
   "cell_type": "markdown",
   "metadata": {},
   "source": [
    "ℹ️ Значение p-value больше 0.05 поэтому у нас нет оснований отвергнуть гипотезу о равенстве среднего чека по группам. Среднний чек в группах A и B одинаковый."
   ]
  },
  {
   "cell_type": "markdown",
   "metadata": {},
   "source": [
    "----\n",
    "- Найдем относительное различие среднего чека между группами A и B.\n",
    "\n",
    "Средний чек рассчитывается как сумма заказов деленое на количество заказов. Сумма заказов - это значение столбца `revenue`, количество заказов - количество строк в выборке. Конверсию найдем как среднее по столбцу `revenue`."
   ]
  },
  {
   "cell_type": "code",
   "execution_count": 74,
   "metadata": {
    "scrolled": true
   },
   "outputs": [
    {
     "data": {
      "text/plain": [
       "0.259"
      ]
     },
     "execution_count": 74,
     "metadata": {},
     "output_type": "execute_result"
    }
   ],
   "source": [
    "rel_def = sampleB.mean()/sampleA.mean() - 1\n",
    "rel_def.round(3)"
   ]
  },
  {
   "cell_type": "markdown",
   "metadata": {},
   "source": [
    "ℹ️ Относительный преимущество группы B составило 25,9%."
   ]
  },
  {
   "cell_type": "code",
   "execution_count": 75,
   "metadata": {},
   "outputs": [
    {
     "data": {
      "text/html": [
       "<div>\n",
       "<style scoped>\n",
       "    .dataframe tbody tr th:only-of-type {\n",
       "        vertical-align: middle;\n",
       "    }\n",
       "\n",
       "    .dataframe tbody tr th {\n",
       "        vertical-align: top;\n",
       "    }\n",
       "\n",
       "    .dataframe thead th {\n",
       "        text-align: right;\n",
       "    }\n",
       "</style>\n",
       "<table border=\"1\" class=\"dataframe\">\n",
       "  <thead>\n",
       "    <tr style=\"text-align: right;\">\n",
       "      <th></th>\n",
       "      <th>original_conversion</th>\n",
       "      <th>filtred_conversion</th>\n",
       "      <th>original_avg_check</th>\n",
       "    </tr>\n",
       "  </thead>\n",
       "  <tbody>\n",
       "    <tr>\n",
       "      <td>mannwhitneyu</td>\n",
       "      <td>0.008396</td>\n",
       "      <td>0.007890</td>\n",
       "      <td>0.364645</td>\n",
       "    </tr>\n",
       "    <tr>\n",
       "      <td>rel_def</td>\n",
       "      <td>0.138079</td>\n",
       "      <td>0.167681</td>\n",
       "      <td>0.258714</td>\n",
       "    </tr>\n",
       "  </tbody>\n",
       "</table>\n",
       "</div>"
      ],
      "text/plain": [
       "              original_conversion  filtred_conversion  original_avg_check\n",
       "mannwhitneyu             0.008396            0.007890            0.364645\n",
       "rel_def                  0.138079            0.167681            0.258714"
      ]
     },
     "execution_count": 75,
     "metadata": {},
     "output_type": "execute_result"
    }
   ],
   "source": [
    "summary['original_avg_check'] = [mannwhitneyu, rel_def]\n",
    "summary"
   ]
  },
  {
   "cell_type": "markdown",
   "metadata": {},
   "source": [
    "<a id='13'><h2>13. Подсчет статистической значимости различий в среднем чеке заказа между группами по «очищенным» данным</h2></a>\n",
    "<a href='#table_of_contents'>В начало</a>"
   ]
  },
  {
   "cell_type": "code",
   "execution_count": 76,
   "metadata": {},
   "outputs": [
    {
     "data": {
      "text/html": [
       "<div>\n",
       "<style scoped>\n",
       "    .dataframe tbody tr th:only-of-type {\n",
       "        vertical-align: middle;\n",
       "    }\n",
       "\n",
       "    .dataframe tbody tr th {\n",
       "        vertical-align: top;\n",
       "    }\n",
       "\n",
       "    .dataframe thead th {\n",
       "        text-align: right;\n",
       "    }\n",
       "</style>\n",
       "<table border=\"1\" class=\"dataframe\">\n",
       "  <thead>\n",
       "    <tr style=\"text-align: right;\">\n",
       "      <th></th>\n",
       "      <th>transaction_id</th>\n",
       "      <th>buyer_id</th>\n",
       "      <th>date</th>\n",
       "      <th>revenue</th>\n",
       "      <th>group</th>\n",
       "    </tr>\n",
       "  </thead>\n",
       "  <tbody>\n",
       "    <tr>\n",
       "      <td>0</td>\n",
       "      <td>3667963787</td>\n",
       "      <td>3312258926</td>\n",
       "      <td>2019-08-15</td>\n",
       "      <td>1650</td>\n",
       "      <td>B</td>\n",
       "    </tr>\n",
       "    <tr>\n",
       "      <td>1</td>\n",
       "      <td>2804400009</td>\n",
       "      <td>3642806036</td>\n",
       "      <td>2019-08-15</td>\n",
       "      <td>730</td>\n",
       "      <td>B</td>\n",
       "    </tr>\n",
       "    <tr>\n",
       "      <td>2</td>\n",
       "      <td>2961555356</td>\n",
       "      <td>4069496402</td>\n",
       "      <td>2019-08-15</td>\n",
       "      <td>400</td>\n",
       "      <td>A</td>\n",
       "    </tr>\n",
       "    <tr>\n",
       "      <td>3</td>\n",
       "      <td>3797467345</td>\n",
       "      <td>1196621759</td>\n",
       "      <td>2019-08-15</td>\n",
       "      <td>9759</td>\n",
       "      <td>B</td>\n",
       "    </tr>\n",
       "    <tr>\n",
       "      <td>4</td>\n",
       "      <td>2282983706</td>\n",
       "      <td>2322279887</td>\n",
       "      <td>2019-08-15</td>\n",
       "      <td>2308</td>\n",
       "      <td>B</td>\n",
       "    </tr>\n",
       "  </tbody>\n",
       "</table>\n",
       "</div>"
      ],
      "text/plain": [
       "   transaction_id    buyer_id       date  revenue group\n",
       "0      3667963787  3312258926 2019-08-15     1650     B\n",
       "1      2804400009  3642806036 2019-08-15      730     B\n",
       "2      2961555356  4069496402 2019-08-15      400     A\n",
       "3      3797467345  1196621759 2019-08-15     9759     B\n",
       "4      2282983706  2322279887 2019-08-15     2308     B"
      ]
     },
     "execution_count": 76,
     "metadata": {},
     "output_type": "execute_result"
    }
   ],
   "source": [
    "filtred_orders = orders[np.logical_not(orders['buyer_id'].isin(abnormal_users))]\n",
    "filtred_orders.head()"
   ]
  },
  {
   "cell_type": "code",
   "execution_count": 77,
   "metadata": {},
   "outputs": [],
   "source": [
    "filtred_sampleA = filtred_orders[filtred_orders['group'] == 'A']['revenue']\n",
    "filtred_sampleB = filtred_orders[filtred_orders['group'] == 'B']['revenue']"
   ]
  },
  {
   "cell_type": "markdown",
   "metadata": {},
   "source": [
    "### Применим критерий Манна-Уитни для оценки различий между выборкой по группе A и по группе B. \n",
    "\n",
    "Сформулируем гипотезы:\n",
    "- H0 - средний чек в группе A и B одинаковый.\n",
    "- H1 - средний чек в группе A и B не одинаковый.\n",
    "\n",
    "Критерий значимости p-value 0,05. Если p-value в тесте Манна-Уитни будет меньше 0,05 - это будет основанием, для того чтобы отвергнуть H0 и принять H1."
   ]
  },
  {
   "cell_type": "code",
   "execution_count": 78,
   "metadata": {},
   "outputs": [
    {
     "data": {
      "text/plain": [
       "'p-value=0.418 - Не получилось отклонить нулевую гипотезу'"
      ]
     },
     "execution_count": 78,
     "metadata": {},
     "output_type": "execute_result"
    }
   ],
   "source": [
    "mannwhitneyu = stats.mannwhitneyu(filtred_sampleA, filtred_sampleB)[1]\n",
    "f\"p-value={mannwhitneyu.round(3)} - {test(mannwhitneyu)}\""
   ]
  },
  {
   "cell_type": "markdown",
   "metadata": {},
   "source": [
    "ℹ️ Значение p-value больше 0.05 - это говорит о том, что у нет оснований отвергнуть гипотезу о раенстве средних чеков в группе. В отфильтрованных данных различий между группами нет."
   ]
  },
  {
   "cell_type": "markdown",
   "metadata": {},
   "source": [
    "----\n",
    "- Найдем относительное различие в среднем чеке между группами A и B по очищенным данным."
   ]
  },
  {
   "cell_type": "code",
   "execution_count": 79,
   "metadata": {},
   "outputs": [
    {
     "data": {
      "text/plain": [
       "-0.006"
      ]
     },
     "execution_count": 79,
     "metadata": {},
     "output_type": "execute_result"
    }
   ],
   "source": [
    "rel_def = filtred_sampleB.mean()/filtred_sampleA.mean() - 1\n",
    "rel_def.round(3)"
   ]
  },
  {
   "cell_type": "markdown",
   "metadata": {},
   "source": [
    "ℹ️ Конверсия по группе B ниже, чем по группе A на 37,2%."
   ]
  },
  {
   "cell_type": "code",
   "execution_count": 80,
   "metadata": {},
   "outputs": [],
   "source": [
    "summary['filtred_avg_check'] = [mannwhitneyu, rel_def]"
   ]
  },
  {
   "cell_type": "markdown",
   "metadata": {},
   "source": [
    "----"
   ]
  },
  {
   "cell_type": "markdown",
   "metadata": {},
   "source": [
    "<a id='check'></a>\n",
    "### Проверка среднего расчета чека по \"очищенным\" данным."
   ]
  },
  {
   "cell_type": "code",
   "execution_count": 81,
   "metadata": {},
   "outputs": [],
   "source": [
    "# для \"очищенных\" заказов \n",
    "# для каждой пары дата+группа посчитаем куммулятивное значение выручки и количества заказов\n",
    "datesGroups = filtred_orders[['date', 'group']].drop_duplicates().reset_index(drop=True)\n",
    "\n",
    "ordersAggregated = datesGroups.apply(lambda x: \\\n",
    "filtred_orders[np.logical_and(filtred_orders['date'] <= x['date'], filtred_orders['group'] == x['group'])]\\\n",
    ".agg({'date': 'max', \n",
    "      'group': 'max', \n",
    "      'revenue': 'sum', \n",
    "      'buyer_id': pd.Series.nunique, \n",
    "      'transaction_id': pd.Series.nunique}), axis=1)\\\n",
    ".sort_values(by=['date', 'group'])\\\n",
    ".rename(columns={\"buyer_id\": \"buyers\", \n",
    "                 \"transaction_id\": \"transactions\"})"
   ]
  },
  {
   "cell_type": "code",
   "execution_count": 82,
   "metadata": {},
   "outputs": [],
   "source": [
    "#ordersAggregated.head()"
   ]
  },
  {
   "cell_type": "code",
   "execution_count": 83,
   "metadata": {},
   "outputs": [
    {
     "data": {
      "text/html": [
       "<div>\n",
       "<style scoped>\n",
       "    .dataframe tbody tr th:only-of-type {\n",
       "        vertical-align: middle;\n",
       "    }\n",
       "\n",
       "    .dataframe tbody tr th {\n",
       "        vertical-align: top;\n",
       "    }\n",
       "\n",
       "    .dataframe thead th {\n",
       "        text-align: right;\n",
       "    }\n",
       "</style>\n",
       "<table border=\"1\" class=\"dataframe\">\n",
       "  <thead>\n",
       "    <tr style=\"text-align: right;\">\n",
       "      <th>group</th>\n",
       "      <th>A</th>\n",
       "      <th>B</th>\n",
       "    </tr>\n",
       "    <tr>\n",
       "      <th>date</th>\n",
       "      <th></th>\n",
       "      <th></th>\n",
       "    </tr>\n",
       "  </thead>\n",
       "  <tbody>\n",
       "    <tr>\n",
       "      <td>2019-08-01</td>\n",
       "      <td>31869</td>\n",
       "      <td>78258</td>\n",
       "    </tr>\n",
       "    <tr>\n",
       "      <td>2019-08-02</td>\n",
       "      <td>80572</td>\n",
       "      <td>163122</td>\n",
       "    </tr>\n",
       "    <tr>\n",
       "      <td>2019-08-03</td>\n",
       "      <td>193045</td>\n",
       "      <td>230171</td>\n",
       "    </tr>\n",
       "    <tr>\n",
       "      <td>2019-08-04</td>\n",
       "      <td>234111</td>\n",
       "      <td>291262</td>\n",
       "    </tr>\n",
       "    <tr>\n",
       "      <td>2019-08-05</td>\n",
       "      <td>337044</td>\n",
       "      <td>352920</td>\n",
       "    </tr>\n",
       "  </tbody>\n",
       "</table>\n",
       "</div>"
      ],
      "text/plain": [
       "group            A       B\n",
       "date                      \n",
       "2019-08-01   31869   78258\n",
       "2019-08-02   80572  163122\n",
       "2019-08-03  193045  230171\n",
       "2019-08-04  234111  291262\n",
       "2019-08-05  337044  352920"
      ]
     },
     "execution_count": 83,
     "metadata": {},
     "output_type": "execute_result"
    }
   ],
   "source": [
    "# сводная таблица в строках - даты, в столбцах - группы, в ячейках - куммулятивное значение выручки на указанную дату\n",
    "filtred_cum_revenue = ordersAggregated.pivot_table(index='date', columns='group', values='revenue', aggfunc='sum')\n",
    "cum_revenue.columns = ['A', 'B']\n",
    "filtred_cum_revenue.head()"
   ]
  },
  {
   "cell_type": "code",
   "execution_count": 84,
   "metadata": {},
   "outputs": [
    {
     "data": {
      "text/html": [
       "<div>\n",
       "<style scoped>\n",
       "    .dataframe tbody tr th:only-of-type {\n",
       "        vertical-align: middle;\n",
       "    }\n",
       "\n",
       "    .dataframe tbody tr th {\n",
       "        vertical-align: top;\n",
       "    }\n",
       "\n",
       "    .dataframe thead th {\n",
       "        text-align: right;\n",
       "    }\n",
       "</style>\n",
       "<table border=\"1\" class=\"dataframe\">\n",
       "  <thead>\n",
       "    <tr style=\"text-align: right;\">\n",
       "      <th>group</th>\n",
       "      <th>A</th>\n",
       "      <th>B</th>\n",
       "    </tr>\n",
       "    <tr>\n",
       "      <th>date</th>\n",
       "      <th></th>\n",
       "      <th></th>\n",
       "    </tr>\n",
       "  </thead>\n",
       "  <tbody>\n",
       "    <tr>\n",
       "      <td>2019-08-01</td>\n",
       "      <td>13</td>\n",
       "      <td>19</td>\n",
       "    </tr>\n",
       "    <tr>\n",
       "      <td>2019-08-02</td>\n",
       "      <td>29</td>\n",
       "      <td>37</td>\n",
       "    </tr>\n",
       "    <tr>\n",
       "      <td>2019-08-03</td>\n",
       "      <td>53</td>\n",
       "      <td>51</td>\n",
       "    </tr>\n",
       "    <tr>\n",
       "      <td>2019-08-04</td>\n",
       "      <td>63</td>\n",
       "      <td>63</td>\n",
       "    </tr>\n",
       "    <tr>\n",
       "      <td>2019-08-05</td>\n",
       "      <td>85</td>\n",
       "      <td>84</td>\n",
       "    </tr>\n",
       "  </tbody>\n",
       "</table>\n",
       "</div>"
      ],
      "text/plain": [
       "group        A   B\n",
       "date              \n",
       "2019-08-01  13  19\n",
       "2019-08-02  29  37\n",
       "2019-08-03  53  51\n",
       "2019-08-04  63  63\n",
       "2019-08-05  85  84"
      ]
     },
     "execution_count": 84,
     "metadata": {},
     "output_type": "execute_result"
    }
   ],
   "source": [
    "# сводная таблица в строках - даты, в столбцах - группы, в ячейках - куммулятивное значение количества заказов на указанную дату\n",
    "filtred_cum_orders = ordersAggregated.pivot_table(index='date', columns='group', values='transactions', aggfunc='sum')\n",
    "cum_revenue.columns = ['A', 'B']\n",
    "filtred_cum_orders.head()"
   ]
  },
  {
   "cell_type": "code",
   "execution_count": 85,
   "metadata": {},
   "outputs": [],
   "source": [
    "# куммулятивный средний чек\n",
    "filtred_avg_check = filtred_cum_revenue/filtred_cum_orders"
   ]
  },
  {
   "cell_type": "code",
   "execution_count": 86,
   "metadata": {},
   "outputs": [
    {
     "data": {
      "text/html": [
       "<div>\n",
       "<style scoped>\n",
       "    .dataframe tbody tr th:only-of-type {\n",
       "        vertical-align: middle;\n",
       "    }\n",
       "\n",
       "    .dataframe tbody tr th {\n",
       "        vertical-align: top;\n",
       "    }\n",
       "\n",
       "    .dataframe thead th {\n",
       "        text-align: right;\n",
       "    }\n",
       "</style>\n",
       "<table border=\"1\" class=\"dataframe\">\n",
       "  <thead>\n",
       "    <tr style=\"text-align: right;\">\n",
       "      <th>group</th>\n",
       "      <th>A</th>\n",
       "      <th>B</th>\n",
       "    </tr>\n",
       "    <tr>\n",
       "      <th>date</th>\n",
       "      <th></th>\n",
       "      <th></th>\n",
       "    </tr>\n",
       "  </thead>\n",
       "  <tbody>\n",
       "    <tr>\n",
       "      <td>2019-08-01</td>\n",
       "      <td>2451.461538</td>\n",
       "      <td>4118.842105</td>\n",
       "    </tr>\n",
       "    <tr>\n",
       "      <td>2019-08-02</td>\n",
       "      <td>2778.344828</td>\n",
       "      <td>4408.702703</td>\n",
       "    </tr>\n",
       "    <tr>\n",
       "      <td>2019-08-03</td>\n",
       "      <td>3642.358491</td>\n",
       "      <td>4513.156863</td>\n",
       "    </tr>\n",
       "    <tr>\n",
       "      <td>2019-08-04</td>\n",
       "      <td>3716.047619</td>\n",
       "      <td>4623.206349</td>\n",
       "    </tr>\n",
       "    <tr>\n",
       "      <td>2019-08-05</td>\n",
       "      <td>3965.223529</td>\n",
       "      <td>4201.428571</td>\n",
       "    </tr>\n",
       "  </tbody>\n",
       "</table>\n",
       "</div>"
      ],
      "text/plain": [
       "group                 A            B\n",
       "date                                \n",
       "2019-08-01  2451.461538  4118.842105\n",
       "2019-08-02  2778.344828  4408.702703\n",
       "2019-08-03  3642.358491  4513.156863\n",
       "2019-08-04  3716.047619  4623.206349\n",
       "2019-08-05  3965.223529  4201.428571"
      ]
     },
     "execution_count": 86,
     "metadata": {},
     "output_type": "execute_result"
    }
   ],
   "source": [
    "filtred_avg_check.head()"
   ]
  },
  {
   "cell_type": "code",
   "execution_count": 87,
   "metadata": {},
   "outputs": [
    {
     "data": {
      "image/png": "[encoded data removed]",
      "text/plain": [
       "<Figure size 432x288 with 1 Axes>"
      ]
     },
     "metadata": {
      "needs_background": "light"
     },
     "output_type": "display_data"
    }
   ],
   "source": [
    "filtred_avg_check.plot.line(title='График куммулятивного среднего чека');"
   ]
  },
  {
   "cell_type": "code",
   "execution_count": 88,
   "metadata": {},
   "outputs": [
    {
     "data": {
      "image/png": "[encoded data removed]",
      "text/plain": [
       "<Figure size 432x288 with 1 Axes>"
      ]
     },
     "metadata": {
      "needs_background": "light"
     },
     "output_type": "display_data"
    }
   ],
   "source": [
    "filtred_cum_revenue.plot.line(title='График куммулятивной выручки');"
   ]
  },
  {
   "cell_type": "code",
   "execution_count": 89,
   "metadata": {},
   "outputs": [
    {
     "data": {
      "image/png": "[encoded data removed]",
      "text/plain": [
       "<Figure size 432x288 with 1 Axes>"
      ]
     },
     "metadata": {
      "needs_background": "light"
     },
     "output_type": "display_data"
    }
   ],
   "source": [
    "filtred_cum_orders.plot.line(title='График коммулятивного количества заказов');"
   ]
  },
  {
   "cell_type": "markdown",
   "metadata": {},
   "source": [
    "<a id='14'><h2>14.  Принятие решения по результатам теста</h2></a>\n",
    "<a href='#table_of_contents'>В начало</a>\n",
    "\n",
    "Варианты решений: \n",
    "1. Остановить тест, зафиксировать победу одной из групп. \n",
    "2. Остановить тест, зафиксировать отсутствие различий между группами. \n",
    "3. Продолжить тест."
   ]
  },
  {
   "cell_type": "code",
   "execution_count": 90,
   "metadata": {},
   "outputs": [
    {
     "data": {
      "text/html": [
       "<div>\n",
       "<style scoped>\n",
       "    .dataframe tbody tr th:only-of-type {\n",
       "        vertical-align: middle;\n",
       "    }\n",
       "\n",
       "    .dataframe tbody tr th {\n",
       "        vertical-align: top;\n",
       "    }\n",
       "\n",
       "    .dataframe thead th {\n",
       "        text-align: right;\n",
       "    }\n",
       "</style>\n",
       "<table border=\"1\" class=\"dataframe\">\n",
       "  <thead>\n",
       "    <tr style=\"text-align: right;\">\n",
       "      <th></th>\n",
       "      <th>original_conversion</th>\n",
       "      <th>filtred_conversion</th>\n",
       "      <th>original_avg_check</th>\n",
       "      <th>filtred_avg_check</th>\n",
       "    </tr>\n",
       "  </thead>\n",
       "  <tbody>\n",
       "    <tr>\n",
       "      <td>mannwhitneyu</td>\n",
       "      <td>0.008396</td>\n",
       "      <td>0.007890</td>\n",
       "      <td>0.364645</td>\n",
       "      <td>0.417713</td>\n",
       "    </tr>\n",
       "    <tr>\n",
       "      <td>rel_def</td>\n",
       "      <td>0.138079</td>\n",
       "      <td>0.167681</td>\n",
       "      <td>0.258714</td>\n",
       "      <td>-0.006465</td>\n",
       "    </tr>\n",
       "  </tbody>\n",
       "</table>\n",
       "</div>"
      ],
      "text/plain": [
       "              original_conversion  filtred_conversion  original_avg_check  \\\n",
       "mannwhitneyu             0.008396            0.007890            0.364645   \n",
       "rel_def                  0.138079            0.167681            0.258714   \n",
       "\n",
       "              filtred_avg_check  \n",
       "mannwhitneyu           0.417713  \n",
       "rel_def               -0.006465  "
      ]
     },
     "execution_count": 90,
     "metadata": {},
     "output_type": "execute_result"
    }
   ],
   "source": [
    "summary"
   ]
  },
  {
   "cell_type": "markdown",
   "metadata": {},
   "source": [
    "----\n",
    "# Выводы\n",
    "📌Для конверсии изменение статистически значимо как по \"сырым\", так и по \"очищенным\" данным. В сырых данных конверсия по группе B имеет прирост на 13,8%, в очищенных прирост на 16,7%.\n",
    "\n",
    "📌Нет статистически значимого различия по среднему чеку ни для \"сырых\", ни для \"очищенных\" данных. Т.е. средний чек для тестовой и контрольной группы практически одинаковый. По \"сырым\" данным прирост среднего чека в группе B составил 25,8%, однако в \"очищенных\" данных для группы B напротив зафиксировано снижение среднего чека на 0,6%. Мы видим, что выбросы в данных очень сильно сместили значение среднего чека.\n",
    "\n",
    "📌Исходя из обнаруженных данных, тест следует остановить. По очищенным данным мы видим, что и конверсия и средний чек в тестовой и контрольной группе стабилизировались, поэтому дальнейшее проведение теста вряд ли сильно изменит значения. \n",
    "По результатам теста зафиксировано статистически значимое отличие конверсии - конверсия в тестовой группе B имеет прирост на 16,7% по сравнению с группой A."
   ]
  }
 ],
 "metadata": {
  "kernelspec": {
   "display_name": "Python 3",
   "language": "python",
   "name": "python3"
  },
  "language_info": {
   "codemirror_mode": {
    "name": "ipython",
    "version": 3
   },
   "file_extension": ".py",
   "mimetype": "text/x-python",
   "name": "python",
   "nbconvert_exporter": "python",
   "pygments_lexer": "ipython3",
   "version": "3.7.6"
  }
 },
 "nbformat": 4,
 "nbformat_minor": 2
}
